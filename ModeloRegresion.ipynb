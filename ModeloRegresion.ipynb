{
  "nbformat": 4,
  "nbformat_minor": 0,
  "metadata": {
    "colab": {
      "provenance": [],
      "authorship_tag": "ABX9TyMUmLyY2dSM41r93OyNb1uz",
      "include_colab_link": true
    },
    "kernelspec": {
      "name": "python3",
      "display_name": "Python 3"
    },
    "language_info": {
      "name": "python"
    }
  },
  "cells": [
    {
      "cell_type": "markdown",
      "metadata": {
        "id": "view-in-github",
        "colab_type": "text"
      },
      "source": [
        "<a href=\"https://colab.research.google.com/github/lourdesvaca/repository-algoritmica-avanzada-2023-2/blob/algoritmica-avanzada/ModeloRegresion.ipynb\" target=\"_parent\"><img src=\"https://colab.research.google.com/assets/colab-badge.svg\" alt=\"Open In Colab\"/></a>"
      ]
    },
    {
      "cell_type": "markdown",
      "source": [
        "#Modelo Regresión\n",
        "Se clasifican en función de dos criterios principales: el número de variables independientes y la forma de la relación entre las variables."
      ],
      "metadata": {
        "id": "I2ahOx_A26lw"
      }
    },
    {
      "cell_type": "markdown",
      "source": [
        "##Tipos\n",
        "###Según el número de variables independientes\n",
        "\n",
        "*   Modelos de regresión lineal simple\n",
        "*   Modelos de regresión lineal múltiple\n",
        "\n",
        "###Según la forma de la relación entre las variables\n",
        "\n",
        "*   Modelos de regresión lineal\n",
        "*   Modelos de regresión no lineal\n",
        "\n",
        "Algunos tipos específicos de modelos de regresión incluyen:\n",
        "\n",
        "\n",
        "*   Regresión logística\n",
        "*   Regresión de Poisson\n",
        "*   Regresión de Cox\n",
        "\n",
        "\n",
        "\n",
        "\n",
        "\n",
        "\n",
        "\n",
        "\n",
        "\n",
        "\n"
      ],
      "metadata": {
        "id": "aoKwCAXj2-14"
      }
    },
    {
      "cell_type": "markdown",
      "source": [
        "y = a + bx\n",
        "\n",
        "      *   y es el precio de la casa\n",
        "      *   a es la intersección de la recta\n",
        "      *   b es la pendiente de la recta\n",
        "      *   x es el número de dormitorios\n",
        "\n"
      ],
      "metadata": {
        "id": "3Fa6TmJl6gUz"
      }
    },
    {
      "cell_type": "markdown",
      "source": [
        "###Algoritmos de regresión lineal\n",
        "\n",
        "Hay varios algoritmos de regresión lineal que se pueden utilizar para estimar los parámetros a y b de la ecuación de regresión lineal. Los algoritmos de regresión lineal más comunes son:\n",
        "\n",
        "* Método de mínimos cuadrados: Este método minimiza la suma de los cuadrados de los residuos entre los valores observados de la variable dependiente y los valores predichos por el modelo.\n",
        "* Método de máxima verosimilitud: Este método maximiza la probabilidad de los datos observados, dados los parámetros del modelo.\n",
        "\n"
      ],
      "metadata": {
        "id": "kb7Tod0m6UnW"
      }
    },
    {
      "cell_type": "markdown",
      "source": [
        "###Modelos de regresión no lineal\n"
      ],
      "metadata": {
        "id": "hu--d7ld6vRt"
      }
    }
  ]
}
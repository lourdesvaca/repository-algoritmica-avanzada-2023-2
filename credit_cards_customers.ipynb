{
  "nbformat": 4,
  "nbformat_minor": 0,
  "metadata": {
    "colab": {
      "provenance": [],
      "authorship_tag": "ABX9TyOQHeofo3WxLhbc2KQb4y0w",
      "include_colab_link": true
    },
    "kernelspec": {
      "name": "python3",
      "display_name": "Python 3"
    },
    "language_info": {
      "name": "python"
    }
  },
  "cells": [
    {
      "cell_type": "markdown",
      "metadata": {
        "id": "view-in-github",
        "colab_type": "text"
      },
      "source": [
        "<a href=\"https://colab.research.google.com/github/lourdesvaca/repository-algoritmica-avanzada-2023-2/blob/algoritmica-avanzada/credit_cards_customers.ipynb\" target=\"_parent\"><img src=\"https://colab.research.google.com/assets/colab-badge.svg\" alt=\"Open In Colab\"/></a>"
      ]
    },
    {
      "cell_type": "code",
      "execution_count": null,
      "metadata": {
        "id": "CI50v3Mws4BK"
      },
      "outputs": [],
      "source": [
        "from sklearn.model_selection import train_test_split\n",
        "from sklearn import linear_model\n",
        "\n",
        "import pandas as pd\n",
        "import numpy as np\n",
        "import matplotlib.pyplot as plt"
      ]
    },
    {
      "cell_type": "code",
      "source": [
        "data = pd.read_csv('BankChurners.csv')"
      ],
      "metadata": {
        "id": "hqw84LRms9lx"
      },
      "execution_count": null,
      "outputs": []
    },
    {
      "cell_type": "code",
      "source": [
        "data"
      ],
      "metadata": {
        "id": "gxnYrGBRs_SV"
      },
      "execution_count": null,
      "outputs": []
    },
    {
      "cell_type": "code",
      "source": [
        "data.dtypes"
      ],
      "metadata": {
        "id": "YUyDOsQKs_aR"
      },
      "execution_count": null,
      "outputs": []
    },
    {
      "cell_type": "code",
      "source": [
        "data.Months_on_book.unique()"
      ],
      "metadata": {
        "id": "jpj4I-uftDXk"
      },
      "execution_count": null,
      "outputs": []
    },
    {
      "cell_type": "code",
      "source": [
        "data.Card_Category.unique()"
      ],
      "metadata": {
        "id": "3eiW4jHctEQq"
      },
      "execution_count": null,
      "outputs": []
    },
    {
      "cell_type": "code",
      "source": [
        "data.Attrition_Flag.unique()"
      ],
      "metadata": {
        "id": "y0G9ujSqtF5d"
      },
      "execution_count": null,
      "outputs": []
    },
    {
      "cell_type": "code",
      "source": [
        "data.Gender.unique()"
      ],
      "metadata": {
        "id": "mV60DLiytG89"
      },
      "execution_count": null,
      "outputs": []
    },
    {
      "cell_type": "code",
      "source": [
        "data.Marital_Status.unique()"
      ],
      "metadata": {
        "id": "R30vEq06tHzB"
      },
      "execution_count": null,
      "outputs": []
    },
    {
      "cell_type": "code",
      "source": [
        "clean = data.drop(['Naive_Bayes_Classifier_Attrition_Flag_Card_Category_Contacts_Count_12_mon_Dependent_count_Education_Level_Months_Inactive_12_mon_1', 'Naive_Bayes_Classifier_Attrition_Flag_Card_Category_Contacts_Count_12_mon_Dependent_count_Education_Level_Months_Inactive_12_mon_2'], axis=1, inplace=True)"
      ],
      "metadata": {
        "id": "ZZOGEvwotIvc"
      },
      "execution_count": null,
      "outputs": []
    },
    {
      "cell_type": "code",
      "source": [
        "data.Education_Level.unique()"
      ],
      "metadata": {
        "id": "6Ej7c0mAtMjq"
      },
      "execution_count": null,
      "outputs": []
    },
    {
      "cell_type": "code",
      "source": [
        "data.Education_Level.unique()"
      ],
      "metadata": {
        "id": "KUpjU7Y4tO2d"
      },
      "execution_count": null,
      "outputs": []
    },
    {
      "cell_type": "code",
      "source": [
        "data.Income_Category.unique()"
      ],
      "metadata": {
        "id": "1I4XnhEztO5v"
      },
      "execution_count": null,
      "outputs": []
    },
    {
      "cell_type": "code",
      "source": [
        "data.Income_Category= data.Income_Category.map({'$60K - $80K':1, 'Less than $40K':2, '$80K - $120K':3, '$40K - $60K':4,'$120K +':5, 'Unknown':6})"
      ],
      "metadata": {
        "id": "GN3oSBgntO9H"
      },
      "execution_count": null,
      "outputs": []
    },
    {
      "cell_type": "code",
      "source": [
        "data.Marital_Status= data.Marital_Status.map({'Married':1, 'Single':2, 'Unknown':3, 'Divorced':4})"
      ],
      "metadata": {
        "id": "rJIvzFsqtPAV"
      },
      "execution_count": null,
      "outputs": []
    },
    {
      "cell_type": "code",
      "source": [
        "data.Attrition_Flag = data.Attrition_Flag.map({'Existing Customer':1, 'Attrited Customer':2})"
      ],
      "metadata": {
        "id": "3T5JDAUgtPD5"
      },
      "execution_count": null,
      "outputs": []
    },
    {
      "cell_type": "code",
      "source": [
        "data['Card_Category'] = data.Card_Category.map({'Blue':1, 'Gold':2, 'Silver':3, 'Platinum':4})"
      ],
      "metadata": {
        "id": "6lzUfawvtPH9"
      },
      "execution_count": null,
      "outputs": []
    },
    {
      "cell_type": "code",
      "source": [
        "data['Education_Level'] = data.Education_Level.map({'High School':1, 'Graduate':2, 'Uneducated':3, 'Unknown':4, 'College':5,'Post-Graduate':6, 'Doctorate':7})"
      ],
      "metadata": {
        "id": "I9hRe2SXtPL-"
      },
      "execution_count": null,
      "outputs": []
    },
    {
      "cell_type": "code",
      "source": [
        "data.dtypes"
      ],
      "metadata": {
        "id": "83ejD6oEtPPc"
      },
      "execution_count": null,
      "outputs": []
    },
    {
      "cell_type": "code",
      "source": [
        "data.head(10)"
      ],
      "metadata": {
        "id": "UoOmS2tZtPS1"
      },
      "execution_count": null,
      "outputs": []
    },
    {
      "cell_type": "code",
      "source": [
        "data.describe()"
      ],
      "metadata": {
        "id": "i4tPpxZltPWp"
      },
      "execution_count": null,
      "outputs": []
    },
    {
      "cell_type": "code",
      "source": [
        "clean = data.drop(['CLIENTNUM'], axis=1, inplace=True)"
      ],
      "metadata": {
        "id": "cmBjCV5ptPaS"
      },
      "execution_count": null,
      "outputs": []
    },
    {
      "cell_type": "code",
      "source": [
        "data.describe()"
      ],
      "metadata": {
        "id": "Qf85sZkvtPeF"
      },
      "execution_count": null,
      "outputs": []
    },
    {
      "cell_type": "code",
      "source": [
        "corr = round(data.corr(), 4)\n",
        "corr.style.background_gradient()"
      ],
      "metadata": {
        "id": "NYcb5iUbtPis"
      },
      "execution_count": null,
      "outputs": []
    },
    {
      "cell_type": "code",
      "source": [],
      "metadata": {
        "id": "ZKPv7xkbtPob"
      },
      "execution_count": null,
      "outputs": []
    },
    {
      "cell_type": "code",
      "source": [],
      "metadata": {
        "id": "q0TQYOlutPwX"
      },
      "execution_count": null,
      "outputs": []
    }
  ]
}
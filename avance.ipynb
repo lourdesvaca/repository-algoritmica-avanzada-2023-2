{
  "nbformat": 4,
  "nbformat_minor": 0,
  "metadata": {
    "colab": {
      "provenance": [],
      "authorship_tag": "ABX9TyN6LQnkGo5L65abGRRHJjnE",
      "include_colab_link": true
    },
    "kernelspec": {
      "name": "python3",
      "display_name": "Python 3"
    },
    "language_info": {
      "name": "python"
    }
  },
  "cells": [
    {
      "cell_type": "markdown",
      "metadata": {
        "id": "view-in-github",
        "colab_type": "text"
      },
      "source": [
        "<a href=\"https://colab.research.google.com/github/lourdesvaca/repository-algoritmica-avanzada-2023-2/blob/algoritmica-avanzada/avance.ipynb\" target=\"_parent\"><img src=\"https://colab.research.google.com/assets/colab-badge.svg\" alt=\"Open In Colab\"/></a>"
      ]
    },
    {
      "cell_type": "markdown",
      "source": [
        "#Proyecto de Info Casas\n"
      ],
      "metadata": {
        "id": "gleRajBkB--s"
      }
    },
    {
      "cell_type": "markdown",
      "source": [
        "<!DOCTYPE html>\n",
        "<html lang=\"es\">\n",
        "<head>\n",
        "<title>Info Casas</title>\n",
        "</head>\n",
        "<body>\n",
        "<main>\n",
        "<section class=\"princiapl-header\">\n",
        "<div class=\"main-title\">\n",
        "<h1>Info Casas</h1>\n",
        "<i class=\"fa-solid fa-magnifying-glass\"></i>\n",
        "<div>\n",
        "<div class=\"nav-bar\">\n",
        "  <ul><li><a href=#>Venta</a></li></ul>\n",
        "  <ul><li><a href=#>Alquiler</a></li></ul>\n",
        "  <ul><li><a href=#>Anticrético</a></li></ul>\n",
        "  <ul><li><a href=#>Proyectos</a></li></ul>\n",
        "  <ul><li><a href=#>Inmobiliarias</a></li></ul>\n",
        "</div>\n",
        "</section>\n",
        "<div class=\"principal-banner\">\n",
        "<img src=\"images/manzana40.jpg\" alt=\"Info Casas\">\n",
        "\n",
        "</div>\n",
        "</main>\n",
        "<br>\n",
        "<footer>Info Casas</footer>\n",
        "</body>"
      ],
      "metadata": {
        "id": "Ka0y2gLvCEpK"
      }
    }
  ]
}
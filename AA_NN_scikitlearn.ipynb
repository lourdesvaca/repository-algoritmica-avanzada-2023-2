{
  "nbformat": 4,
  "nbformat_minor": 0,
  "metadata": {
    "colab": {
      "provenance": [],
      "authorship_tag": "ABX9TyP0k+mzJNokCdbjnHXF4gC6",
      "include_colab_link": true
    },
    "kernelspec": {
      "name": "python3",
      "display_name": "Python 3"
    },
    "language_info": {
      "name": "python"
    }
  },
  "cells": [
    {
      "cell_type": "markdown",
      "metadata": {
        "id": "view-in-github",
        "colab_type": "text"
      },
      "source": [
        "<a href=\"https://colab.research.google.com/github/lourdesvaca/repository-algoritmica-avanzada-2023-2/blob/algoritmica-avanzada/AA_NN_scikitlearn.ipynb\" target=\"_parent\"><img src=\"https://colab.research.google.com/assets/colab-badge.svg\" alt=\"Open In Colab\"/></a>"
      ]
    },
    {
      "cell_type": "code",
      "execution_count": 2,
      "metadata": {
        "id": "I_WKnHKM9i_a"
      },
      "outputs": [],
      "source": [
        "from sklearn.datasets import make_circles\n",
        "from sklearn.neural_network import MLPClassifier\n",
        "\n",
        "import pandas as pd\n",
        "import numpy as np\n"
      ]
    },
    {
      "cell_type": "code",
      "source": [
        "x, y = make_circles(n_samples=600, factor=0.5, noise=0.1)"
      ],
      "metadata": {
        "id": "ByJyWUGO-IlB"
      },
      "execution_count": 3,
      "outputs": []
    },
    {
      "cell_type": "markdown",
      "source": [
        "### Aprendiendo cómo funciona una red neuronal de Scikitlearn\n",
        "**hidden_later_sizes:**\n",
        "\n",
        " Es una tupla que define la topologia de nuestra red, el primer elemento de la tupla establece el número de perceptrone y el segundo, el núero de capas es el siguiente:\n",
        "\n",
        "     (perceptrones, capas)\n",
        "      Ej: (10,7)\n",
        "\n",
        "\n",
        "**activation:**\n",
        "\n",
        "Es la función de activación y tiene las siguientes opcioneS:\n",
        "  - 'identity': Sirve para alivianar los cuellos de botella en el entrenamientos\n",
        "  - 'logistic': Es la representación de la función sigmoide\n",
        "  - 'tanh': Produce un resultado similar a la función sigmoide, pero aplicando la tangente hiperbólica\n",
        "  - 'relu': ES la función de mínimos y máximos, con valores entre 0 - x\n",
        "\n",
        "**solver:**\n",
        "\n",
        "Es la repesentación del backpropagation, ajusta los pesos sinápticos en base al error de la capa de salida.\n",
        "  - 'sgd': Ajusta los valores en base a la gradiente de descenso estocástica.\n",
        "  - 'adam': Utilzia una gradiente de descenso optimizada\n",
        "\n",
        "\n",
        "**learning_rate**:\n",
        "\n",
        "Permite ajustar la velocidad de aprendizaje de la red.\n",
        "  - 'constant': Una tasa fija de aprendizaje (un valor), en base a otro parámetro llamado **learning_rate_init**, que no camia entre épocas\n",
        "  - 'adaptative': Ajusta la tasa entre épocas (es una operación de división porque la tasa se hace más pequeña)\n",
        "  - 'invscaling': Ajusta la tasa de aprendizaje sólo cuando encuentra una meseta\n",
        "\n",
        "\n",
        " **learning_rate_init**\n",
        "\n",
        " Es una valor entre 0-1, que es requerrido, sí y sólo si el **learning_rate_init** está establecido como constante.\n",
        ""
      ],
      "metadata": {
        "id": "uFGqaS4G-c3A"
      }
    },
    {
      "cell_type": "code",
      "source": [
        "#nn_classifier = MLPClassifier(hidden_layer_sizes=(4,3), activation='logistic', solver='sgd', learning_rate='constante', learning_rate_init=0.05)\n",
        "#nn_classifier = MLPClassifier(hidden_layer_sizes=(100,50), activation='tanh', solver='adam', learning_rate='adaptative', max_iter=1500)\n",
        "nn_classifier = MLPClassifier(hidden_layer_sizes=(15,10), activation='relu', solver='adam', learning_rate='invscaling', max_iter=500)\n"
      ],
      "metadata": {
        "id": "YniINtR6CRle"
      },
      "execution_count": 5,
      "outputs": []
    },
    {
      "cell_type": "code",
      "source": [
        "nn_classifier.fit(x,y)"
      ],
      "metadata": {
        "colab": {
          "base_uri": "https://localhost:8080/",
          "height": 322
        },
        "id": "npBZjmX2EXoF",
        "outputId": "766ecd7b-10e2-4f01-c1d3-0014875c8753"
      },
      "execution_count": 6,
      "outputs": [
        {
          "output_type": "error",
          "ename": "InvalidParameterError",
          "evalue": "ignored",
          "traceback": [
            "\u001b[0;31m---------------------------------------------------------------------------\u001b[0m",
            "\u001b[0;31mInvalidParameterError\u001b[0m                     Traceback (most recent call last)",
            "\u001b[0;32m<ipython-input-6-b38b7f99a403>\u001b[0m in \u001b[0;36m<cell line: 1>\u001b[0;34m()\u001b[0m\n\u001b[0;32m----> 1\u001b[0;31m \u001b[0mnn_classifier\u001b[0m\u001b[0;34m.\u001b[0m\u001b[0mfit\u001b[0m\u001b[0;34m(\u001b[0m\u001b[0mx\u001b[0m\u001b[0;34m,\u001b[0m\u001b[0my\u001b[0m\u001b[0;34m)\u001b[0m\u001b[0;34m\u001b[0m\u001b[0;34m\u001b[0m\u001b[0m\n\u001b[0m",
            "\u001b[0;32m/usr/local/lib/python3.10/dist-packages/sklearn/neural_network/_multilayer_perceptron.py\u001b[0m in \u001b[0;36mfit\u001b[0;34m(self, X, y)\u001b[0m\n\u001b[1;32m    745\u001b[0m             \u001b[0mReturns\u001b[0m \u001b[0ma\u001b[0m \u001b[0mtrained\u001b[0m \u001b[0mMLP\u001b[0m \u001b[0mmodel\u001b[0m\u001b[0;34m.\u001b[0m\u001b[0;34m\u001b[0m\u001b[0;34m\u001b[0m\u001b[0m\n\u001b[1;32m    746\u001b[0m         \"\"\"\n\u001b[0;32m--> 747\u001b[0;31m         \u001b[0mself\u001b[0m\u001b[0;34m.\u001b[0m\u001b[0m_validate_params\u001b[0m\u001b[0;34m(\u001b[0m\u001b[0;34m)\u001b[0m\u001b[0;34m\u001b[0m\u001b[0;34m\u001b[0m\u001b[0m\n\u001b[0m\u001b[1;32m    748\u001b[0m \u001b[0;34m\u001b[0m\u001b[0m\n\u001b[1;32m    749\u001b[0m         \u001b[0;32mreturn\u001b[0m \u001b[0mself\u001b[0m\u001b[0;34m.\u001b[0m\u001b[0m_fit\u001b[0m\u001b[0;34m(\u001b[0m\u001b[0mX\u001b[0m\u001b[0;34m,\u001b[0m \u001b[0my\u001b[0m\u001b[0;34m,\u001b[0m \u001b[0mincremental\u001b[0m\u001b[0;34m=\u001b[0m\u001b[0;32mFalse\u001b[0m\u001b[0;34m)\u001b[0m\u001b[0;34m\u001b[0m\u001b[0;34m\u001b[0m\u001b[0m\n",
            "\u001b[0;32m/usr/local/lib/python3.10/dist-packages/sklearn/base.py\u001b[0m in \u001b[0;36m_validate_params\u001b[0;34m(self)\u001b[0m\n\u001b[1;32m    598\u001b[0m         \u001b[0maccepted\u001b[0m \u001b[0mconstraints\u001b[0m\u001b[0;34m.\u001b[0m\u001b[0;34m\u001b[0m\u001b[0;34m\u001b[0m\u001b[0m\n\u001b[1;32m    599\u001b[0m         \"\"\"\n\u001b[0;32m--> 600\u001b[0;31m         validate_parameter_constraints(\n\u001b[0m\u001b[1;32m    601\u001b[0m             \u001b[0mself\u001b[0m\u001b[0;34m.\u001b[0m\u001b[0m_parameter_constraints\u001b[0m\u001b[0;34m,\u001b[0m\u001b[0;34m\u001b[0m\u001b[0;34m\u001b[0m\u001b[0m\n\u001b[1;32m    602\u001b[0m             \u001b[0mself\u001b[0m\u001b[0;34m.\u001b[0m\u001b[0mget_params\u001b[0m\u001b[0;34m(\u001b[0m\u001b[0mdeep\u001b[0m\u001b[0;34m=\u001b[0m\u001b[0;32mFalse\u001b[0m\u001b[0;34m)\u001b[0m\u001b[0;34m,\u001b[0m\u001b[0;34m\u001b[0m\u001b[0;34m\u001b[0m\u001b[0m\n",
            "\u001b[0;32m/usr/local/lib/python3.10/dist-packages/sklearn/utils/_param_validation.py\u001b[0m in \u001b[0;36mvalidate_parameter_constraints\u001b[0;34m(parameter_constraints, params, caller_name)\u001b[0m\n\u001b[1;32m     95\u001b[0m                 )\n\u001b[1;32m     96\u001b[0m \u001b[0;34m\u001b[0m\u001b[0m\n\u001b[0;32m---> 97\u001b[0;31m             raise InvalidParameterError(\n\u001b[0m\u001b[1;32m     98\u001b[0m                 \u001b[0;34mf\"The {param_name!r} parameter of {caller_name} must be\"\u001b[0m\u001b[0;34m\u001b[0m\u001b[0;34m\u001b[0m\u001b[0m\n\u001b[1;32m     99\u001b[0m                 \u001b[0;34mf\" {constraints_str}. Got {param_val!r} instead.\"\u001b[0m\u001b[0;34m\u001b[0m\u001b[0;34m\u001b[0m\u001b[0m\n",
            "\u001b[0;31mInvalidParameterError\u001b[0m: The 'learning_rate' parameter of MLPClassifier must be a str among {'constant', 'adaptive', 'invscaling'}. Got 'constante' instead."
          ]
        }
      ]
    },
    {
      "cell_type": "markdown",
      "source": [],
      "metadata": {
        "id": "GG7kmppTCnmV"
      }
    },
    {
      "cell_type": "markdown",
      "source": [
        "Evaluamos la red neuronal hasta este punto previo al entrenamiento.\n",
        "\n",
        "Debemos analizar si es una red clasificatoria, retorna etiquetas."
      ],
      "metadata": {
        "id": "jYJn66UkCny-"
      }
    },
    {
      "cell_type": "code",
      "source": [
        "print(f'Etiquetas de la red: {nn_classifier.classes_}')"
      ],
      "metadata": {
        "colab": {
          "base_uri": "https://localhost:8080/",
          "height": 176
        },
        "id": "_RBLsSnfCdKR",
        "outputId": "bda88e9c-aec6-4352-d217-af72bfecd63c"
      },
      "execution_count": 7,
      "outputs": [
        {
          "output_type": "error",
          "ename": "AttributeError",
          "evalue": "ignored",
          "traceback": [
            "\u001b[0;31m---------------------------------------------------------------------------\u001b[0m",
            "\u001b[0;31mAttributeError\u001b[0m                            Traceback (most recent call last)",
            "\u001b[0;32m<ipython-input-7-e63cc429c8c6>\u001b[0m in \u001b[0;36m<cell line: 1>\u001b[0;34m()\u001b[0m\n\u001b[0;32m----> 1\u001b[0;31m \u001b[0mprint\u001b[0m\u001b[0;34m(\u001b[0m\u001b[0;34mf'Etiquetas de la red: {nn_classifier.classes_}'\u001b[0m\u001b[0;34m)\u001b[0m\u001b[0;34m\u001b[0m\u001b[0;34m\u001b[0m\u001b[0m\n\u001b[0m",
            "\u001b[0;31mAttributeError\u001b[0m: 'MLPClassifier' object has no attribute 'classes_'"
          ]
        }
      ]
    },
    {
      "cell_type": "code",
      "source": [
        "print(f'Tasa de pérdida: {round(nn_classifier.loss_, 4)*100}%')\n"
      ],
      "metadata": {
        "id": "roRGpdmg-WZY"
      },
      "execution_count": null,
      "outputs": []
    },
    {
      "cell_type": "code",
      "source": [
        "print(f'Precisión: {round(nn_classifier.score_, 4)*100}%')"
      ],
      "metadata": {
        "id": "Ei8taLYBFLT0"
      },
      "execution_count": null,
      "outputs": []
    },
    {
      "cell_type": "code",
      "source": [
        "#un score válido debe ser mayor a 70\n",
        "print(f'Cantidad de épocas: {nn_classifier.n_iter_}%')\n"
      ],
      "metadata": {
        "id": "OXq1yFgM-Wcp"
      },
      "execution_count": null,
      "outputs": []
    },
    {
      "cell_type": "markdown",
      "source": [
        "### El Objetivo es clasificar"
      ],
      "metadata": {
        "id": "8hc-P9AiD9It"
      }
    },
    {
      "cell_type": "code",
      "source": [
        "y_predicted = nn_classifier.predict([[0.182564, 0.254631]])"
      ],
      "metadata": {
        "id": "nfAjFLh1-WgD"
      },
      "execution_count": null,
      "outputs": []
    },
    {
      "cell_type": "code",
      "source": [
        "y_predicted"
      ],
      "metadata": {
        "id": "mknhqS40-Wjg"
      },
      "execution_count": null,
      "outputs": []
    },
    {
      "cell_type": "code",
      "source": [],
      "metadata": {
        "id": "EVPq6Z-f-WnD"
      },
      "execution_count": null,
      "outputs": []
    },
    {
      "cell_type": "code",
      "source": [],
      "metadata": {
        "id": "ZosiMiKi-WrK"
      },
      "execution_count": null,
      "outputs": []
    }
  ]
}
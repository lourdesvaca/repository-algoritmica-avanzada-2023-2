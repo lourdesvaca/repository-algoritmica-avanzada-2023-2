{
  "nbformat": 4,
  "nbformat_minor": 0,
  "metadata": {
    "colab": {
      "provenance": [],
      "authorship_tag": "ABX9TyP2nhl5mcnkk8EBLSfb/nyx",
      "include_colab_link": true
    },
    "kernelspec": {
      "name": "python3",
      "display_name": "Python 3"
    },
    "language_info": {
      "name": "python"
    }
  },
  "cells": [
    {
      "cell_type": "markdown",
      "metadata": {
        "id": "view-in-github",
        "colab_type": "text"
      },
      "source": [
        "<a href=\"https://colab.research.google.com/github/lourdesvaca/repository-algoritmica-avanzada-2023-2/blob/algoritmica-avanzada/AA_NN_scikitlearn.ipynb\" target=\"_parent\"><img src=\"https://colab.research.google.com/assets/colab-badge.svg\" alt=\"Open In Colab\"/></a>"
      ]
    },
    {
      "cell_type": "code",
      "execution_count": null,
      "metadata": {
        "id": "I_WKnHKM9i_a"
      },
      "outputs": [],
      "source": [
        "from sklearn.datasets import make_circles\n",
        "from sklearn.neural_network import MLPClassifier\n",
        "\n",
        "import pandas as pd\n",
        "import numpy a np\n"
      ]
    },
    {
      "cell_type": "code",
      "source": [
        "x, y = make_circles(n_samples=600, factor=0.5, noise=0.1)"
      ],
      "metadata": {
        "id": "ByJyWUGO-IlB"
      },
      "execution_count": null,
      "outputs": []
    },
    {
      "cell_type": "markdown",
      "source": [
        "### Aprendiendo cómo funciona una red neuronal de Scikitlearn\n",
        "**hidden_later_sizes:**\n",
        "\n",
        " Es una tupla que define la topologia de nuestra red, el primer elemento de la tupla establece el número de perceptrone y el segundo, el núero de capas es el siguiente:\n",
        "\n",
        "     (perceptrones, capas)\n",
        "      Ej: (10,7)\n",
        "\n",
        "\n",
        "**activation:**\n",
        "\n",
        "Es la función de activación y tiene las siguientes opcioneS:\n",
        "  - 'identity': Sirve para alivianar los cuellos de botella en el entrenamientos\n",
        "  - 'logistic': Es la representación de la función sigmoide\n",
        "  - 'tanh': Produce un resultado similar a la función sigmoide, pero aplicando la tangente hiperbólica\n",
        "  - 'relu': ES la función de mínimos y máximos, con valores entre 0 - x\n",
        "\n",
        "**solver:**\n",
        "\n",
        "Es la repesentación del backpropagation, ajusta los pesos sinápticos en base al error de la capa de salida.\n",
        "  - 'sgd': Ajusta los valores en base a la gradiente de descenso estocástica.\n",
        "  - 'adam': Utilzia una gradiente de descenso optimizada\n",
        "\n",
        "\n",
        "**learning_rate**:\n",
        "\n",
        "Permite ajustar la velocidad de aprendizaje de la red.\n",
        "  - 'constant': Una tasa fija de aprendizaje (un valor), en base a otro parámetro llamado **learning_rate_init**, que no camia entre épocas\n",
        "  - 'adaptative': Ajusta la tasa entre épocas (es una operación de división porque la tasa se hace más pequeña)\n",
        "  - 'invscaling': Ajusta la tasa de aprendizaje sólo cuando encuentra una meseta\n",
        "\n",
        "\n",
        " **learning_rate_init**\n",
        "\n",
        " Es una valor entre 0-1, que es requerrido, sí y sólo si el **learning_rate_init** está establecido como constante.\n",
        ""
      ],
      "metadata": {
        "id": "uFGqaS4G-c3A"
      }
    },
    {
      "cell_type": "code",
      "source": [],
      "metadata": {
        "id": "roRGpdmg-WZY"
      },
      "execution_count": null,
      "outputs": []
    },
    {
      "cell_type": "code",
      "source": [],
      "metadata": {
        "id": "OXq1yFgM-Wcp"
      },
      "execution_count": null,
      "outputs": []
    },
    {
      "cell_type": "code",
      "source": [],
      "metadata": {
        "id": "nfAjFLh1-WgD"
      },
      "execution_count": null,
      "outputs": []
    },
    {
      "cell_type": "code",
      "source": [],
      "metadata": {
        "id": "mknhqS40-Wjg"
      },
      "execution_count": null,
      "outputs": []
    },
    {
      "cell_type": "code",
      "source": [],
      "metadata": {
        "id": "EVPq6Z-f-WnD"
      },
      "execution_count": null,
      "outputs": []
    },
    {
      "cell_type": "code",
      "source": [],
      "metadata": {
        "id": "ZosiMiKi-WrK"
      },
      "execution_count": null,
      "outputs": []
    }
  ]
}
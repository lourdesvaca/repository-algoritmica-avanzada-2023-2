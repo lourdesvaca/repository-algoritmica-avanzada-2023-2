{
  "nbformat": 4,
  "nbformat_minor": 0,
  "metadata": {
    "colab": {
      "provenance": [],
      "authorship_tag": "ABX9TyNsnaOsbuvN/4ocFfmjWq2q",
      "include_colab_link": true
    },
    "kernelspec": {
      "name": "python3",
      "display_name": "Python 3"
    },
    "language_info": {
      "name": "python"
    }
  },
  "cells": [
    {
      "cell_type": "markdown",
      "metadata": {
        "id": "view-in-github",
        "colab_type": "text"
      },
      "source": [
        "<a href=\"https://colab.research.google.com/github/lourdesvaca/repository-algoritmica-avanzada-2023-2/blob/algoritmica-avanzada/AA_MNS_KMeans_DatasetMallCustomers.ipynb\" target=\"_parent\"><img src=\"https://colab.research.google.com/assets/colab-badge.svg\" alt=\"Open In Colab\"/></a>"
      ]
    },
    {
      "cell_type": "markdown",
      "source": [
        "#Proyecto final\n",
        "\n",
        "Entrenador de modelo dinámico *(predictivo, clasificatorio, agrupacion)* *texto en cursiva*\n",
        "\n",
        "recibe cualquier dataset\n",
        "permite seleccionar\n",
        "qué deseo hacer? clasificar...\n",
        "con qué columnas voy a trabajar?\n",
        "Implementar interfaz gráfica en python al proyecto utilizando la\n",
        "libreria: **tkinter**\n",
        "\n",
        "todo lo aprendido automatizado, con interfaz grafica, salida huminazada y permitir el ingreso de datos desde la interfaz\n",
        "**fecha de presentación: 05 de diciembre**"
      ],
      "metadata": {
        "id": "xB-41YXonZ-G"
      }
    },
    {
      "cell_type": "markdown",
      "source": [
        "##Realizamos una práctica con el dataset \"Mall Customers\""
      ],
      "metadata": {
        "id": "rNvVdahcwZMw"
      }
    },
    {
      "cell_type": "code",
      "execution_count": null,
      "metadata": {
        "id": "811156O-etnY"
      },
      "outputs": [],
      "source": [
        "from sklearn.cluster import KMeans\n",
        "from sklearn.datasets import make_blobs\n",
        "\n",
        "import pandas as pd\n",
        "import numpy as np\n",
        "import matplotlib.pyplot as plt\n",
        "import seaborn as sns"
      ]
    },
    {
      "cell_type": "code",
      "source": [],
      "metadata": {
        "id": "jJuFQOxwwiYH"
      },
      "execution_count": null,
      "outputs": []
    },
    {
      "cell_type": "code",
      "source": [
        "# Cargar el dataset\n",
        "df = pd.read_csv('Mall_Customers.csv')"
      ],
      "metadata": {
        "id": "Z_VG4OBie1gu"
      },
      "execution_count": null,
      "outputs": []
    },
    {
      "cell_type": "code",
      "source": [
        "# Familiarizarnos con el dataset\n",
        "df.head()"
      ],
      "metadata": {
        "id": "ylgpG_Cfe1pt"
      },
      "execution_count": null,
      "outputs": []
    },
    {
      "cell_type": "code",
      "source": [
        "df.Gender = df.Gender.map({'Male': 1, 'Female': 2})"
      ],
      "metadata": {
        "id": "oF6clf_1e1st"
      },
      "execution_count": null,
      "outputs": []
    },
    {
      "cell_type": "code",
      "source": [
        "df.describe()"
      ],
      "metadata": {
        "id": "yZjDQv7se1vV"
      },
      "execution_count": null,
      "outputs": []
    },
    {
      "cell_type": "code",
      "source": [
        "df.drop(['CustomerID', 'Gender'], axis=1, inplace=True)"
      ],
      "metadata": {
        "id": "NridoKECe1x9"
      },
      "execution_count": null,
      "outputs": []
    },
    {
      "cell_type": "code",
      "source": [
        "centers = range(1, 9)"
      ],
      "metadata": {
        "id": "rc5HoE1ne10w"
      },
      "execution_count": null,
      "outputs": []
    },
    {
      "cell_type": "code",
      "source": [
        "clusters = [KMeans(n_clusters=center, n_init=10) for center in centers]"
      ],
      "metadata": {
        "id": "hzmRMsCde13X"
      },
      "execution_count": null,
      "outputs": []
    },
    {
      "cell_type": "code",
      "source": [
        "scores = [model.fit(df).score(df) for model in clusters]"
      ],
      "metadata": {
        "id": "JS_N70Xev2hX"
      },
      "execution_count": null,
      "outputs": []
    },
    {
      "cell_type": "code",
      "source": [
        "# Graficamos la curva\n",
        "plt.plot(centers, scores)\n",
        "plt.show()"
      ],
      "metadata": {
        "id": "J7o9PLnJv2ku"
      },
      "execution_count": null,
      "outputs": []
    },
    {
      "cell_type": "code",
      "source": [
        "k_means_model = KMeans(n_clusters=6, n_init=10)"
      ],
      "metadata": {
        "id": "6KoSmHCUv2n_"
      },
      "execution_count": null,
      "outputs": []
    },
    {
      "cell_type": "code",
      "source": [
        "k_means_model.fit(df)"
      ],
      "metadata": {
        "id": "0rWQN4mav2q3"
      },
      "execution_count": null,
      "outputs": []
    },
    {
      "cell_type": "code",
      "source": [
        "k_means_model.cluster_centers_"
      ],
      "metadata": {
        "id": "MFKLwKV0v2t_"
      },
      "execution_count": null,
      "outputs": []
    },
    {
      "cell_type": "markdown",
      "source": [
        "Ahora con los valores obtenidos debemos de saber interpretarlos para realizar la función y su posterior salidad humanizada."
      ],
      "metadata": {
        "id": "SC_g3dIKv9IO"
      }
    },
    {
      "cell_type": "code",
      "source": [
        "def classify_customers:\n",
        "  return"
      ],
      "metadata": {
        "id": "a1YsL8kHv8EN"
      },
      "execution_count": null,
      "outputs": []
    }
  ]
}
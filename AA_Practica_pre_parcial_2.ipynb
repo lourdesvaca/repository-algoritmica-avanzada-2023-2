{
  "nbformat": 4,
  "nbformat_minor": 0,
  "metadata": {
    "colab": {
      "provenance": [],
      "authorship_tag": "ABX9TyM7okBcovvPRre8BA2FSYkm",
      "include_colab_link": true
    },
    "kernelspec": {
      "name": "python3",
      "display_name": "Python 3"
    },
    "language_info": {
      "name": "python"
    }
  },
  "cells": [
    {
      "cell_type": "markdown",
      "metadata": {
        "id": "view-in-github",
        "colab_type": "text"
      },
      "source": [
        "<a href=\"https://colab.research.google.com/github/lourdesvaca/repository-algoritmica-avanzada-2023-2/blob/algoritmica-avanzada/AA_Practica_pre_parcial_2.ipynb\" target=\"_parent\"><img src=\"https://colab.research.google.com/assets/colab-badge.svg\" alt=\"Open In Colab\"/></a>"
      ]
    },
    {
      "cell_type": "markdown",
      "source": [
        "#Repaso\n",
        "\n",
        "Parcial 2, Algoritmica Avanzada. 2023-2\n"
      ],
      "metadata": {
        "id": "RAu9aroRMa_J"
      }
    },
    {
      "cell_type": "code",
      "execution_count": 2,
      "metadata": {
        "id": "-RPQD4_SMAvE"
      },
      "outputs": [],
      "source": [
        "from sklearn import neighbors\n",
        "from sklearn.model_selection import train_test_split\n",
        "\n",
        "\n",
        "import pandas as pd\n",
        "import numpy as np\n",
        "import seaborn as sns\n",
        "import matplotlib.pyplot as plt"
      ]
    },
    {
      "cell_type": "code",
      "source": [
        "df = pd.read_csv('')"
      ],
      "metadata": {
        "id": "r_sST3-MvgJs"
      },
      "execution_count": null,
      "outputs": []
    }
  ]
}
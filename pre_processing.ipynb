{
  "nbformat": 4,
  "nbformat_minor": 0,
  "metadata": {
    "colab": {
      "provenance": [],
      "authorship_tag": "ABX9TyPtQCC7XXjh9n2wOxcM10+A",
      "include_colab_link": true
    },
    "kernelspec": {
      "name": "python3",
      "display_name": "Python 3"
    },
    "language_info": {
      "name": "python"
    }
  },
  "cells": [
    {
      "cell_type": "markdown",
      "metadata": {
        "id": "view-in-github",
        "colab_type": "text"
      },
      "source": [
        "<a href=\"https://colab.research.google.com/github/lourdesvaca/repository-algoritmica-avanzada-2023-2/blob/algoritmica-avanzada/pre_processing.ipynb\" target=\"_parent\"><img src=\"https://colab.research.google.com/assets/colab-badge.svg\" alt=\"Open In Colab\"/></a>"
      ]
    },
    {
      "cell_type": "code",
      "execution_count": null,
      "metadata": {
        "id": "VQDYIfn5OjdQ"
      },
      "outputs": [],
      "source": []
    },
    {
      "cell_type": "markdown",
      "source": [
        "#Modelos de pro procesamiento"
      ],
      "metadata": {
        "id": "uqK4f9EaOmZL"
      }
    },
    {
      "cell_type": "markdown",
      "source": [
        "##Label Enconder"
      ],
      "metadata": {
        "id": "fqPJnm88P2tL"
      }
    },
    {
      "cell_type": "markdown",
      "source": [
        "Este modelo se entrena para el reconocimiento y la obtención de etiquetas.\n",
        "\n",
        "Este modelo reemplaza al mapping manual."
      ],
      "metadata": {
        "id": "0DB-pLb7Oqw0"
      }
    },
    {
      "cell_type": "markdown",
      "source": [
        "Cuando una columna categorica tiene más de 10 datos nos podemos apoyar del label encoder para mapear."
      ],
      "metadata": {
        "id": "LETkPz6aQAsE"
      }
    },
    {
      "cell_type": "code",
      "source": [
        "from sklearn import preprocessing\n",
        "import pandas as pd"
      ],
      "metadata": {
        "id": "lFjCGKpcPNmr"
      },
      "execution_count": 1,
      "outputs": []
    },
    {
      "cell_type": "code",
      "source": [
        "data = pd.read_csv('/performance.csv')"
      ],
      "metadata": {
        "id": "UmupXEZ2PZaL"
      },
      "execution_count": 11,
      "outputs": []
    },
    {
      "cell_type": "code",
      "source": [
        "data"
      ],
      "metadata": {
        "colab": {
          "base_uri": "https://localhost:8080/",
          "height": 617
        },
        "id": "vHlfE2ijPzMj",
        "outputId": "d3f2cbc5-e0cc-4b9d-ce48-4943dd511b65"
      },
      "execution_count": 3,
      "outputs": [
        {
          "output_type": "execute_result",
          "data": {
            "text/plain": [
              "                 Name  GamesPlayed  MinutesPlayed  PointsPerGame  \\\n",
              "0      Brandon Ingram           36           27.4            7.4   \n",
              "1     Andrew Harrison           35           26.9            7.2   \n",
              "2      JaKarr Sampson           74           15.3            5.2   \n",
              "3         Malik Sealy           58           11.6            5.7   \n",
              "4         Matt Geiger           48           11.5            4.5   \n",
              "...               ...          ...            ...            ...   \n",
              "1335      Chris Smith           80           15.8            4.3   \n",
              "1336      Brent Price           68           12.6            3.9   \n",
              "1337     Marlon Maxey           43           12.1            5.4   \n",
              "1338  Litterial Green           52           12.0            4.5   \n",
              "1339        Jon Barry           47           11.7            4.4   \n",
              "\n",
              "      FieldGoalsMade  FieldGoalsAttempt  FieldGoalPercent  3PointMade  \\\n",
              "0                2.6                7.6              34.7         0.5   \n",
              "1                2.0                6.7              29.6         0.7   \n",
              "2                2.0                4.7              42.2         0.4   \n",
              "3                2.3                5.5              42.6         0.1   \n",
              "4                1.6                3.0              52.4         0.0   \n",
              "...              ...                ...               ...         ...   \n",
              "1335             1.6                3.6              43.3         0.0   \n",
              "1336             1.5                4.1              35.8         0.1   \n",
              "1337             2.2                3.9              55.0         0.0   \n",
              "1338             1.7                3.8              43.9         0.0   \n",
              "1339             1.6                4.4              36.9         0.4   \n",
              "\n",
              "      3PointAttempt  3PointPercent  ...  FreeThrowAttempt  FreeThrowPercent  \\\n",
              "0               2.1           25.0  ...               2.3              69.9   \n",
              "1               2.8           23.5  ...               3.4              76.5   \n",
              "2               1.7           24.4  ...               1.3              67.0   \n",
              "3               0.5           22.6  ...               1.3              68.9   \n",
              "4               0.1            0.0  ...               1.9              67.4   \n",
              "...             ...            ...  ...               ...               ...   \n",
              "1335            0.2           14.3  ...               1.5              79.2   \n",
              "1336            0.7           16.7  ...               1.0              79.4   \n",
              "1337            0.0            0.0  ...               1.6              64.3   \n",
              "1338            0.2           10.0  ...               1.8              62.5   \n",
              "1339            1.3           33.3  ...               1.0              67.3   \n",
              "\n",
              "      OffensiveRebounds  DefensiveRebounds  Rebounds  Assists  Steals  Blocks  \\\n",
              "0                   0.7                3.4       4.1      1.9     0.4     0.4   \n",
              "1                   0.5                2.0       2.4      3.7     1.1     0.5   \n",
              "2                   0.5                1.7       2.2      1.0     0.5     0.3   \n",
              "3                   1.0                0.9       1.9      0.8     0.6     0.1   \n",
              "4                   1.0                1.5       2.5      0.3     0.3     0.4   \n",
              "...                 ...                ...       ...      ...     ...     ...   \n",
              "1335                0.4                0.8       1.2      2.5     0.6     0.2   \n",
              "1336                0.4                1.1       1.5      2.3     0.8     0.0   \n",
              "1337                1.5                2.3       3.8      0.3     0.3     0.4   \n",
              "1338                0.2                0.4       0.7      2.2     0.4     0.1   \n",
              "1339                0.2                0.7       0.9      1.4     0.7     0.1   \n",
              "\n",
              "      Turnovers  Target  \n",
              "0           1.3       0  \n",
              "1           1.6       0  \n",
              "2           1.0       0  \n",
              "3           1.0       1  \n",
              "4           0.8       1  \n",
              "...         ...     ...  \n",
              "1335        0.8       0  \n",
              "1336        1.3       1  \n",
              "1337        0.9       0  \n",
              "1338        0.8       1  \n",
              "1339        0.9       1  \n",
              "\n",
              "[1340 rows x 21 columns]"
            ],
            "text/html": [
              "\n",
              "  <div id=\"df-fb0398ed-0b78-4232-90c8-cda6db8b599b\" class=\"colab-df-container\">\n",
              "    <div>\n",
              "<style scoped>\n",
              "    .dataframe tbody tr th:only-of-type {\n",
              "        vertical-align: middle;\n",
              "    }\n",
              "\n",
              "    .dataframe tbody tr th {\n",
              "        vertical-align: top;\n",
              "    }\n",
              "\n",
              "    .dataframe thead th {\n",
              "        text-align: right;\n",
              "    }\n",
              "</style>\n",
              "<table border=\"1\" class=\"dataframe\">\n",
              "  <thead>\n",
              "    <tr style=\"text-align: right;\">\n",
              "      <th></th>\n",
              "      <th>Name</th>\n",
              "      <th>GamesPlayed</th>\n",
              "      <th>MinutesPlayed</th>\n",
              "      <th>PointsPerGame</th>\n",
              "      <th>FieldGoalsMade</th>\n",
              "      <th>FieldGoalsAttempt</th>\n",
              "      <th>FieldGoalPercent</th>\n",
              "      <th>3PointMade</th>\n",
              "      <th>3PointAttempt</th>\n",
              "      <th>3PointPercent</th>\n",
              "      <th>...</th>\n",
              "      <th>FreeThrowAttempt</th>\n",
              "      <th>FreeThrowPercent</th>\n",
              "      <th>OffensiveRebounds</th>\n",
              "      <th>DefensiveRebounds</th>\n",
              "      <th>Rebounds</th>\n",
              "      <th>Assists</th>\n",
              "      <th>Steals</th>\n",
              "      <th>Blocks</th>\n",
              "      <th>Turnovers</th>\n",
              "      <th>Target</th>\n",
              "    </tr>\n",
              "  </thead>\n",
              "  <tbody>\n",
              "    <tr>\n",
              "      <th>0</th>\n",
              "      <td>Brandon Ingram</td>\n",
              "      <td>36</td>\n",
              "      <td>27.4</td>\n",
              "      <td>7.4</td>\n",
              "      <td>2.6</td>\n",
              "      <td>7.6</td>\n",
              "      <td>34.7</td>\n",
              "      <td>0.5</td>\n",
              "      <td>2.1</td>\n",
              "      <td>25.0</td>\n",
              "      <td>...</td>\n",
              "      <td>2.3</td>\n",
              "      <td>69.9</td>\n",
              "      <td>0.7</td>\n",
              "      <td>3.4</td>\n",
              "      <td>4.1</td>\n",
              "      <td>1.9</td>\n",
              "      <td>0.4</td>\n",
              "      <td>0.4</td>\n",
              "      <td>1.3</td>\n",
              "      <td>0</td>\n",
              "    </tr>\n",
              "    <tr>\n",
              "      <th>1</th>\n",
              "      <td>Andrew Harrison</td>\n",
              "      <td>35</td>\n",
              "      <td>26.9</td>\n",
              "      <td>7.2</td>\n",
              "      <td>2.0</td>\n",
              "      <td>6.7</td>\n",
              "      <td>29.6</td>\n",
              "      <td>0.7</td>\n",
              "      <td>2.8</td>\n",
              "      <td>23.5</td>\n",
              "      <td>...</td>\n",
              "      <td>3.4</td>\n",
              "      <td>76.5</td>\n",
              "      <td>0.5</td>\n",
              "      <td>2.0</td>\n",
              "      <td>2.4</td>\n",
              "      <td>3.7</td>\n",
              "      <td>1.1</td>\n",
              "      <td>0.5</td>\n",
              "      <td>1.6</td>\n",
              "      <td>0</td>\n",
              "    </tr>\n",
              "    <tr>\n",
              "      <th>2</th>\n",
              "      <td>JaKarr Sampson</td>\n",
              "      <td>74</td>\n",
              "      <td>15.3</td>\n",
              "      <td>5.2</td>\n",
              "      <td>2.0</td>\n",
              "      <td>4.7</td>\n",
              "      <td>42.2</td>\n",
              "      <td>0.4</td>\n",
              "      <td>1.7</td>\n",
              "      <td>24.4</td>\n",
              "      <td>...</td>\n",
              "      <td>1.3</td>\n",
              "      <td>67.0</td>\n",
              "      <td>0.5</td>\n",
              "      <td>1.7</td>\n",
              "      <td>2.2</td>\n",
              "      <td>1.0</td>\n",
              "      <td>0.5</td>\n",
              "      <td>0.3</td>\n",
              "      <td>1.0</td>\n",
              "      <td>0</td>\n",
              "    </tr>\n",
              "    <tr>\n",
              "      <th>3</th>\n",
              "      <td>Malik Sealy</td>\n",
              "      <td>58</td>\n",
              "      <td>11.6</td>\n",
              "      <td>5.7</td>\n",
              "      <td>2.3</td>\n",
              "      <td>5.5</td>\n",
              "      <td>42.6</td>\n",
              "      <td>0.1</td>\n",
              "      <td>0.5</td>\n",
              "      <td>22.6</td>\n",
              "      <td>...</td>\n",
              "      <td>1.3</td>\n",
              "      <td>68.9</td>\n",
              "      <td>1.0</td>\n",
              "      <td>0.9</td>\n",
              "      <td>1.9</td>\n",
              "      <td>0.8</td>\n",
              "      <td>0.6</td>\n",
              "      <td>0.1</td>\n",
              "      <td>1.0</td>\n",
              "      <td>1</td>\n",
              "    </tr>\n",
              "    <tr>\n",
              "      <th>4</th>\n",
              "      <td>Matt Geiger</td>\n",
              "      <td>48</td>\n",
              "      <td>11.5</td>\n",
              "      <td>4.5</td>\n",
              "      <td>1.6</td>\n",
              "      <td>3.0</td>\n",
              "      <td>52.4</td>\n",
              "      <td>0.0</td>\n",
              "      <td>0.1</td>\n",
              "      <td>0.0</td>\n",
              "      <td>...</td>\n",
              "      <td>1.9</td>\n",
              "      <td>67.4</td>\n",
              "      <td>1.0</td>\n",
              "      <td>1.5</td>\n",
              "      <td>2.5</td>\n",
              "      <td>0.3</td>\n",
              "      <td>0.3</td>\n",
              "      <td>0.4</td>\n",
              "      <td>0.8</td>\n",
              "      <td>1</td>\n",
              "    </tr>\n",
              "    <tr>\n",
              "      <th>...</th>\n",
              "      <td>...</td>\n",
              "      <td>...</td>\n",
              "      <td>...</td>\n",
              "      <td>...</td>\n",
              "      <td>...</td>\n",
              "      <td>...</td>\n",
              "      <td>...</td>\n",
              "      <td>...</td>\n",
              "      <td>...</td>\n",
              "      <td>...</td>\n",
              "      <td>...</td>\n",
              "      <td>...</td>\n",
              "      <td>...</td>\n",
              "      <td>...</td>\n",
              "      <td>...</td>\n",
              "      <td>...</td>\n",
              "      <td>...</td>\n",
              "      <td>...</td>\n",
              "      <td>...</td>\n",
              "      <td>...</td>\n",
              "      <td>...</td>\n",
              "    </tr>\n",
              "    <tr>\n",
              "      <th>1335</th>\n",
              "      <td>Chris Smith</td>\n",
              "      <td>80</td>\n",
              "      <td>15.8</td>\n",
              "      <td>4.3</td>\n",
              "      <td>1.6</td>\n",
              "      <td>3.6</td>\n",
              "      <td>43.3</td>\n",
              "      <td>0.0</td>\n",
              "      <td>0.2</td>\n",
              "      <td>14.3</td>\n",
              "      <td>...</td>\n",
              "      <td>1.5</td>\n",
              "      <td>79.2</td>\n",
              "      <td>0.4</td>\n",
              "      <td>0.8</td>\n",
              "      <td>1.2</td>\n",
              "      <td>2.5</td>\n",
              "      <td>0.6</td>\n",
              "      <td>0.2</td>\n",
              "      <td>0.8</td>\n",
              "      <td>0</td>\n",
              "    </tr>\n",
              "    <tr>\n",
              "      <th>1336</th>\n",
              "      <td>Brent Price</td>\n",
              "      <td>68</td>\n",
              "      <td>12.6</td>\n",
              "      <td>3.9</td>\n",
              "      <td>1.5</td>\n",
              "      <td>4.1</td>\n",
              "      <td>35.8</td>\n",
              "      <td>0.1</td>\n",
              "      <td>0.7</td>\n",
              "      <td>16.7</td>\n",
              "      <td>...</td>\n",
              "      <td>1.0</td>\n",
              "      <td>79.4</td>\n",
              "      <td>0.4</td>\n",
              "      <td>1.1</td>\n",
              "      <td>1.5</td>\n",
              "      <td>2.3</td>\n",
              "      <td>0.8</td>\n",
              "      <td>0.0</td>\n",
              "      <td>1.3</td>\n",
              "      <td>1</td>\n",
              "    </tr>\n",
              "    <tr>\n",
              "      <th>1337</th>\n",
              "      <td>Marlon Maxey</td>\n",
              "      <td>43</td>\n",
              "      <td>12.1</td>\n",
              "      <td>5.4</td>\n",
              "      <td>2.2</td>\n",
              "      <td>3.9</td>\n",
              "      <td>55.0</td>\n",
              "      <td>0.0</td>\n",
              "      <td>0.0</td>\n",
              "      <td>0.0</td>\n",
              "      <td>...</td>\n",
              "      <td>1.6</td>\n",
              "      <td>64.3</td>\n",
              "      <td>1.5</td>\n",
              "      <td>2.3</td>\n",
              "      <td>3.8</td>\n",
              "      <td>0.3</td>\n",
              "      <td>0.3</td>\n",
              "      <td>0.4</td>\n",
              "      <td>0.9</td>\n",
              "      <td>0</td>\n",
              "    </tr>\n",
              "    <tr>\n",
              "      <th>1338</th>\n",
              "      <td>Litterial Green</td>\n",
              "      <td>52</td>\n",
              "      <td>12.0</td>\n",
              "      <td>4.5</td>\n",
              "      <td>1.7</td>\n",
              "      <td>3.8</td>\n",
              "      <td>43.9</td>\n",
              "      <td>0.0</td>\n",
              "      <td>0.2</td>\n",
              "      <td>10.0</td>\n",
              "      <td>...</td>\n",
              "      <td>1.8</td>\n",
              "      <td>62.5</td>\n",
              "      <td>0.2</td>\n",
              "      <td>0.4</td>\n",
              "      <td>0.7</td>\n",
              "      <td>2.2</td>\n",
              "      <td>0.4</td>\n",
              "      <td>0.1</td>\n",
              "      <td>0.8</td>\n",
              "      <td>1</td>\n",
              "    </tr>\n",
              "    <tr>\n",
              "      <th>1339</th>\n",
              "      <td>Jon Barry</td>\n",
              "      <td>47</td>\n",
              "      <td>11.7</td>\n",
              "      <td>4.4</td>\n",
              "      <td>1.6</td>\n",
              "      <td>4.4</td>\n",
              "      <td>36.9</td>\n",
              "      <td>0.4</td>\n",
              "      <td>1.3</td>\n",
              "      <td>33.3</td>\n",
              "      <td>...</td>\n",
              "      <td>1.0</td>\n",
              "      <td>67.3</td>\n",
              "      <td>0.2</td>\n",
              "      <td>0.7</td>\n",
              "      <td>0.9</td>\n",
              "      <td>1.4</td>\n",
              "      <td>0.7</td>\n",
              "      <td>0.1</td>\n",
              "      <td>0.9</td>\n",
              "      <td>1</td>\n",
              "    </tr>\n",
              "  </tbody>\n",
              "</table>\n",
              "<p>1340 rows × 21 columns</p>\n",
              "</div>\n",
              "    <div class=\"colab-df-buttons\">\n",
              "\n",
              "  <div class=\"colab-df-container\">\n",
              "    <button class=\"colab-df-convert\" onclick=\"convertToInteractive('df-fb0398ed-0b78-4232-90c8-cda6db8b599b')\"\n",
              "            title=\"Convert this dataframe to an interactive table.\"\n",
              "            style=\"display:none;\">\n",
              "\n",
              "  <svg xmlns=\"http://www.w3.org/2000/svg\" height=\"24px\" viewBox=\"0 -960 960 960\">\n",
              "    <path d=\"M120-120v-720h720v720H120Zm60-500h600v-160H180v160Zm220 220h160v-160H400v160Zm0 220h160v-160H400v160ZM180-400h160v-160H180v160Zm440 0h160v-160H620v160ZM180-180h160v-160H180v160Zm440 0h160v-160H620v160Z\"/>\n",
              "  </svg>\n",
              "    </button>\n",
              "\n",
              "  <style>\n",
              "    .colab-df-container {\n",
              "      display:flex;\n",
              "      gap: 12px;\n",
              "    }\n",
              "\n",
              "    .colab-df-convert {\n",
              "      background-color: #E8F0FE;\n",
              "      border: none;\n",
              "      border-radius: 50%;\n",
              "      cursor: pointer;\n",
              "      display: none;\n",
              "      fill: #1967D2;\n",
              "      height: 32px;\n",
              "      padding: 0 0 0 0;\n",
              "      width: 32px;\n",
              "    }\n",
              "\n",
              "    .colab-df-convert:hover {\n",
              "      background-color: #E2EBFA;\n",
              "      box-shadow: 0px 1px 2px rgba(60, 64, 67, 0.3), 0px 1px 3px 1px rgba(60, 64, 67, 0.15);\n",
              "      fill: #174EA6;\n",
              "    }\n",
              "\n",
              "    .colab-df-buttons div {\n",
              "      margin-bottom: 4px;\n",
              "    }\n",
              "\n",
              "    [theme=dark] .colab-df-convert {\n",
              "      background-color: #3B4455;\n",
              "      fill: #D2E3FC;\n",
              "    }\n",
              "\n",
              "    [theme=dark] .colab-df-convert:hover {\n",
              "      background-color: #434B5C;\n",
              "      box-shadow: 0px 1px 3px 1px rgba(0, 0, 0, 0.15);\n",
              "      filter: drop-shadow(0px 1px 2px rgba(0, 0, 0, 0.3));\n",
              "      fill: #FFFFFF;\n",
              "    }\n",
              "  </style>\n",
              "\n",
              "    <script>\n",
              "      const buttonEl =\n",
              "        document.querySelector('#df-fb0398ed-0b78-4232-90c8-cda6db8b599b button.colab-df-convert');\n",
              "      buttonEl.style.display =\n",
              "        google.colab.kernel.accessAllowed ? 'block' : 'none';\n",
              "\n",
              "      async function convertToInteractive(key) {\n",
              "        const element = document.querySelector('#df-fb0398ed-0b78-4232-90c8-cda6db8b599b');\n",
              "        const dataTable =\n",
              "          await google.colab.kernel.invokeFunction('convertToInteractive',\n",
              "                                                    [key], {});\n",
              "        if (!dataTable) return;\n",
              "\n",
              "        const docLinkHtml = 'Like what you see? Visit the ' +\n",
              "          '<a target=\"_blank\" href=https://colab.research.google.com/notebooks/data_table.ipynb>data table notebook</a>'\n",
              "          + ' to learn more about interactive tables.';\n",
              "        element.innerHTML = '';\n",
              "        dataTable['output_type'] = 'display_data';\n",
              "        await google.colab.output.renderOutput(dataTable, element);\n",
              "        const docLink = document.createElement('div');\n",
              "        docLink.innerHTML = docLinkHtml;\n",
              "        element.appendChild(docLink);\n",
              "      }\n",
              "    </script>\n",
              "  </div>\n",
              "\n",
              "\n",
              "<div id=\"df-eb1be7a6-5ad2-4f05-bb70-b3cddfe68c0a\">\n",
              "  <button class=\"colab-df-quickchart\" onclick=\"quickchart('df-eb1be7a6-5ad2-4f05-bb70-b3cddfe68c0a')\"\n",
              "            title=\"Suggest charts.\"\n",
              "            style=\"display:none;\">\n",
              "\n",
              "<svg xmlns=\"http://www.w3.org/2000/svg\" height=\"24px\"viewBox=\"0 0 24 24\"\n",
              "     width=\"24px\">\n",
              "    <g>\n",
              "        <path d=\"M19 3H5c-1.1 0-2 .9-2 2v14c0 1.1.9 2 2 2h14c1.1 0 2-.9 2-2V5c0-1.1-.9-2-2-2zM9 17H7v-7h2v7zm4 0h-2V7h2v10zm4 0h-2v-4h2v4z\"/>\n",
              "    </g>\n",
              "</svg>\n",
              "  </button>\n",
              "\n",
              "<style>\n",
              "  .colab-df-quickchart {\n",
              "      --bg-color: #E8F0FE;\n",
              "      --fill-color: #1967D2;\n",
              "      --hover-bg-color: #E2EBFA;\n",
              "      --hover-fill-color: #174EA6;\n",
              "      --disabled-fill-color: #AAA;\n",
              "      --disabled-bg-color: #DDD;\n",
              "  }\n",
              "\n",
              "  [theme=dark] .colab-df-quickchart {\n",
              "      --bg-color: #3B4455;\n",
              "      --fill-color: #D2E3FC;\n",
              "      --hover-bg-color: #434B5C;\n",
              "      --hover-fill-color: #FFFFFF;\n",
              "      --disabled-bg-color: #3B4455;\n",
              "      --disabled-fill-color: #666;\n",
              "  }\n",
              "\n",
              "  .colab-df-quickchart {\n",
              "    background-color: var(--bg-color);\n",
              "    border: none;\n",
              "    border-radius: 50%;\n",
              "    cursor: pointer;\n",
              "    display: none;\n",
              "    fill: var(--fill-color);\n",
              "    height: 32px;\n",
              "    padding: 0;\n",
              "    width: 32px;\n",
              "  }\n",
              "\n",
              "  .colab-df-quickchart:hover {\n",
              "    background-color: var(--hover-bg-color);\n",
              "    box-shadow: 0 1px 2px rgba(60, 64, 67, 0.3), 0 1px 3px 1px rgba(60, 64, 67, 0.15);\n",
              "    fill: var(--button-hover-fill-color);\n",
              "  }\n",
              "\n",
              "  .colab-df-quickchart-complete:disabled,\n",
              "  .colab-df-quickchart-complete:disabled:hover {\n",
              "    background-color: var(--disabled-bg-color);\n",
              "    fill: var(--disabled-fill-color);\n",
              "    box-shadow: none;\n",
              "  }\n",
              "\n",
              "  .colab-df-spinner {\n",
              "    border: 2px solid var(--fill-color);\n",
              "    border-color: transparent;\n",
              "    border-bottom-color: var(--fill-color);\n",
              "    animation:\n",
              "      spin 1s steps(1) infinite;\n",
              "  }\n",
              "\n",
              "  @keyframes spin {\n",
              "    0% {\n",
              "      border-color: transparent;\n",
              "      border-bottom-color: var(--fill-color);\n",
              "      border-left-color: var(--fill-color);\n",
              "    }\n",
              "    20% {\n",
              "      border-color: transparent;\n",
              "      border-left-color: var(--fill-color);\n",
              "      border-top-color: var(--fill-color);\n",
              "    }\n",
              "    30% {\n",
              "      border-color: transparent;\n",
              "      border-left-color: var(--fill-color);\n",
              "      border-top-color: var(--fill-color);\n",
              "      border-right-color: var(--fill-color);\n",
              "    }\n",
              "    40% {\n",
              "      border-color: transparent;\n",
              "      border-right-color: var(--fill-color);\n",
              "      border-top-color: var(--fill-color);\n",
              "    }\n",
              "    60% {\n",
              "      border-color: transparent;\n",
              "      border-right-color: var(--fill-color);\n",
              "    }\n",
              "    80% {\n",
              "      border-color: transparent;\n",
              "      border-right-color: var(--fill-color);\n",
              "      border-bottom-color: var(--fill-color);\n",
              "    }\n",
              "    90% {\n",
              "      border-color: transparent;\n",
              "      border-bottom-color: var(--fill-color);\n",
              "    }\n",
              "  }\n",
              "</style>\n",
              "\n",
              "  <script>\n",
              "    async function quickchart(key) {\n",
              "      const quickchartButtonEl =\n",
              "        document.querySelector('#' + key + ' button');\n",
              "      quickchartButtonEl.disabled = true;  // To prevent multiple clicks.\n",
              "      quickchartButtonEl.classList.add('colab-df-spinner');\n",
              "      try {\n",
              "        const charts = await google.colab.kernel.invokeFunction(\n",
              "            'suggestCharts', [key], {});\n",
              "      } catch (error) {\n",
              "        console.error('Error during call to suggestCharts:', error);\n",
              "      }\n",
              "      quickchartButtonEl.classList.remove('colab-df-spinner');\n",
              "      quickchartButtonEl.classList.add('colab-df-quickchart-complete');\n",
              "    }\n",
              "    (() => {\n",
              "      let quickchartButtonEl =\n",
              "        document.querySelector('#df-eb1be7a6-5ad2-4f05-bb70-b3cddfe68c0a button');\n",
              "      quickchartButtonEl.style.display =\n",
              "        google.colab.kernel.accessAllowed ? 'block' : 'none';\n",
              "    })();\n",
              "  </script>\n",
              "</div>\n",
              "    </div>\n",
              "  </div>\n"
            ]
          },
          "metadata": {},
          "execution_count": 3
        }
      ]
    },
    {
      "cell_type": "markdown",
      "source": [
        "Un modelo de pre procesamiento se basa en:\n",
        "\n",
        "\n",
        "*   Elemento de lista\n",
        "*   Elemento de lista\n",
        "\n"
      ],
      "metadata": {
        "id": "gVI5iENDQNN8"
      }
    },
    {
      "cell_type": "code",
      "source": [
        "#1. Inicializo el modelo\n",
        "encoder = preprocessing.LabelEncoder()"
      ],
      "metadata": {
        "id": "wkYdSiEqP0UD"
      },
      "execution_count": 4,
      "outputs": []
    },
    {
      "cell_type": "code",
      "source": [
        "#2. Entrenar el modelo\n",
        "encoder.fit(data.Name)"
      ],
      "metadata": {
        "colab": {
          "base_uri": "https://localhost:8080/",
          "height": 75
        },
        "id": "vq1X0ig4QoCj",
        "outputId": "8e53e64c-9d31-40c9-c3c7-712012c9aac0"
      },
      "execution_count": 5,
      "outputs": [
        {
          "output_type": "execute_result",
          "data": {
            "text/plain": [
              "LabelEncoder()"
            ],
            "text/html": [
              "<style>#sk-container-id-1 {color: black;background-color: white;}#sk-container-id-1 pre{padding: 0;}#sk-container-id-1 div.sk-toggleable {background-color: white;}#sk-container-id-1 label.sk-toggleable__label {cursor: pointer;display: block;width: 100%;margin-bottom: 0;padding: 0.3em;box-sizing: border-box;text-align: center;}#sk-container-id-1 label.sk-toggleable__label-arrow:before {content: \"▸\";float: left;margin-right: 0.25em;color: #696969;}#sk-container-id-1 label.sk-toggleable__label-arrow:hover:before {color: black;}#sk-container-id-1 div.sk-estimator:hover label.sk-toggleable__label-arrow:before {color: black;}#sk-container-id-1 div.sk-toggleable__content {max-height: 0;max-width: 0;overflow: hidden;text-align: left;background-color: #f0f8ff;}#sk-container-id-1 div.sk-toggleable__content pre {margin: 0.2em;color: black;border-radius: 0.25em;background-color: #f0f8ff;}#sk-container-id-1 input.sk-toggleable__control:checked~div.sk-toggleable__content {max-height: 200px;max-width: 100%;overflow: auto;}#sk-container-id-1 input.sk-toggleable__control:checked~label.sk-toggleable__label-arrow:before {content: \"▾\";}#sk-container-id-1 div.sk-estimator input.sk-toggleable__control:checked~label.sk-toggleable__label {background-color: #d4ebff;}#sk-container-id-1 div.sk-label input.sk-toggleable__control:checked~label.sk-toggleable__label {background-color: #d4ebff;}#sk-container-id-1 input.sk-hidden--visually {border: 0;clip: rect(1px 1px 1px 1px);clip: rect(1px, 1px, 1px, 1px);height: 1px;margin: -1px;overflow: hidden;padding: 0;position: absolute;width: 1px;}#sk-container-id-1 div.sk-estimator {font-family: monospace;background-color: #f0f8ff;border: 1px dotted black;border-radius: 0.25em;box-sizing: border-box;margin-bottom: 0.5em;}#sk-container-id-1 div.sk-estimator:hover {background-color: #d4ebff;}#sk-container-id-1 div.sk-parallel-item::after {content: \"\";width: 100%;border-bottom: 1px solid gray;flex-grow: 1;}#sk-container-id-1 div.sk-label:hover label.sk-toggleable__label {background-color: #d4ebff;}#sk-container-id-1 div.sk-serial::before {content: \"\";position: absolute;border-left: 1px solid gray;box-sizing: border-box;top: 0;bottom: 0;left: 50%;z-index: 0;}#sk-container-id-1 div.sk-serial {display: flex;flex-direction: column;align-items: center;background-color: white;padding-right: 0.2em;padding-left: 0.2em;position: relative;}#sk-container-id-1 div.sk-item {position: relative;z-index: 1;}#sk-container-id-1 div.sk-parallel {display: flex;align-items: stretch;justify-content: center;background-color: white;position: relative;}#sk-container-id-1 div.sk-item::before, #sk-container-id-1 div.sk-parallel-item::before {content: \"\";position: absolute;border-left: 1px solid gray;box-sizing: border-box;top: 0;bottom: 0;left: 50%;z-index: -1;}#sk-container-id-1 div.sk-parallel-item {display: flex;flex-direction: column;z-index: 1;position: relative;background-color: white;}#sk-container-id-1 div.sk-parallel-item:first-child::after {align-self: flex-end;width: 50%;}#sk-container-id-1 div.sk-parallel-item:last-child::after {align-self: flex-start;width: 50%;}#sk-container-id-1 div.sk-parallel-item:only-child::after {width: 0;}#sk-container-id-1 div.sk-dashed-wrapped {border: 1px dashed gray;margin: 0 0.4em 0.5em 0.4em;box-sizing: border-box;padding-bottom: 0.4em;background-color: white;}#sk-container-id-1 div.sk-label label {font-family: monospace;font-weight: bold;display: inline-block;line-height: 1.2em;}#sk-container-id-1 div.sk-label-container {text-align: center;}#sk-container-id-1 div.sk-container {/* jupyter's `normalize.less` sets `[hidden] { display: none; }` but bootstrap.min.css set `[hidden] { display: none !important; }` so we also need the `!important` here to be able to override the default hidden behavior on the sphinx rendered scikit-learn.org. See: https://github.com/scikit-learn/scikit-learn/issues/21755 */display: inline-block !important;position: relative;}#sk-container-id-1 div.sk-text-repr-fallback {display: none;}</style><div id=\"sk-container-id-1\" class=\"sk-top-container\"><div class=\"sk-text-repr-fallback\"><pre>LabelEncoder()</pre><b>In a Jupyter environment, please rerun this cell to show the HTML representation or trust the notebook. <br />On GitHub, the HTML representation is unable to render, please try loading this page with nbviewer.org.</b></div><div class=\"sk-container\" hidden><div class=\"sk-item\"><div class=\"sk-estimator sk-toggleable\"><input class=\"sk-toggleable__control sk-hidden--visually\" id=\"sk-estimator-id-1\" type=\"checkbox\" checked><label for=\"sk-estimator-id-1\" class=\"sk-toggleable__label sk-toggleable__label-arrow\">LabelEncoder</label><div class=\"sk-toggleable__content\"><pre>LabelEncoder()</pre></div></div></div></div></div>"
            ]
          },
          "metadata": {},
          "execution_count": 5
        }
      ]
    },
    {
      "cell_type": "code",
      "source": [
        "encoder.classes_"
      ],
      "metadata": {
        "colab": {
          "base_uri": "https://localhost:8080/"
        },
        "id": "GJnrAyEjSQeR",
        "outputId": "35bc5cca-80f2-465f-88d5-705158461cb3"
      },
      "execution_count": 7,
      "outputs": [
        {
          "output_type": "execute_result",
          "data": {
            "text/plain": [
              "array(['A.C. Green', 'A.J. English', 'A.J. Price', ..., 'Xavier McDaniel',\n",
              "       'Zach LaVine', 'Zach Randolph'], dtype=object)"
            ]
          },
          "metadata": {},
          "execution_count": 7
        }
      ]
    },
    {
      "cell_type": "code",
      "source": [
        "data.head()"
      ],
      "metadata": {
        "colab": {
          "base_uri": "https://localhost:8080/",
          "height": 342
        },
        "id": "ip-WMEI3TBFN",
        "outputId": "a4c7e6cd-47ee-4c77-a90b-5bb78517671c"
      },
      "execution_count": 8,
      "outputs": [
        {
          "output_type": "execute_result",
          "data": {
            "text/plain": [
              "              Name  GamesPlayed  MinutesPlayed  PointsPerGame  FieldGoalsMade  \\\n",
              "0   Brandon Ingram           36           27.4            7.4             2.6   \n",
              "1  Andrew Harrison           35           26.9            7.2             2.0   \n",
              "2   JaKarr Sampson           74           15.3            5.2             2.0   \n",
              "3      Malik Sealy           58           11.6            5.7             2.3   \n",
              "4      Matt Geiger           48           11.5            4.5             1.6   \n",
              "\n",
              "   FieldGoalsAttempt  FieldGoalPercent  3PointMade  3PointAttempt  \\\n",
              "0                7.6              34.7         0.5            2.1   \n",
              "1                6.7              29.6         0.7            2.8   \n",
              "2                4.7              42.2         0.4            1.7   \n",
              "3                5.5              42.6         0.1            0.5   \n",
              "4                3.0              52.4         0.0            0.1   \n",
              "\n",
              "   3PointPercent  ...  FreeThrowAttempt  FreeThrowPercent  OffensiveRebounds  \\\n",
              "0           25.0  ...               2.3              69.9                0.7   \n",
              "1           23.5  ...               3.4              76.5                0.5   \n",
              "2           24.4  ...               1.3              67.0                0.5   \n",
              "3           22.6  ...               1.3              68.9                1.0   \n",
              "4            0.0  ...               1.9              67.4                1.0   \n",
              "\n",
              "   DefensiveRebounds  Rebounds  Assists  Steals  Blocks  Turnovers  Target  \n",
              "0                3.4       4.1      1.9     0.4     0.4        1.3       0  \n",
              "1                2.0       2.4      3.7     1.1     0.5        1.6       0  \n",
              "2                1.7       2.2      1.0     0.5     0.3        1.0       0  \n",
              "3                0.9       1.9      0.8     0.6     0.1        1.0       1  \n",
              "4                1.5       2.5      0.3     0.3     0.4        0.8       1  \n",
              "\n",
              "[5 rows x 21 columns]"
            ],
            "text/html": [
              "\n",
              "  <div id=\"df-bc17eade-e85e-4e4d-9b0e-3eedf834df09\" class=\"colab-df-container\">\n",
              "    <div>\n",
              "<style scoped>\n",
              "    .dataframe tbody tr th:only-of-type {\n",
              "        vertical-align: middle;\n",
              "    }\n",
              "\n",
              "    .dataframe tbody tr th {\n",
              "        vertical-align: top;\n",
              "    }\n",
              "\n",
              "    .dataframe thead th {\n",
              "        text-align: right;\n",
              "    }\n",
              "</style>\n",
              "<table border=\"1\" class=\"dataframe\">\n",
              "  <thead>\n",
              "    <tr style=\"text-align: right;\">\n",
              "      <th></th>\n",
              "      <th>Name</th>\n",
              "      <th>GamesPlayed</th>\n",
              "      <th>MinutesPlayed</th>\n",
              "      <th>PointsPerGame</th>\n",
              "      <th>FieldGoalsMade</th>\n",
              "      <th>FieldGoalsAttempt</th>\n",
              "      <th>FieldGoalPercent</th>\n",
              "      <th>3PointMade</th>\n",
              "      <th>3PointAttempt</th>\n",
              "      <th>3PointPercent</th>\n",
              "      <th>...</th>\n",
              "      <th>FreeThrowAttempt</th>\n",
              "      <th>FreeThrowPercent</th>\n",
              "      <th>OffensiveRebounds</th>\n",
              "      <th>DefensiveRebounds</th>\n",
              "      <th>Rebounds</th>\n",
              "      <th>Assists</th>\n",
              "      <th>Steals</th>\n",
              "      <th>Blocks</th>\n",
              "      <th>Turnovers</th>\n",
              "      <th>Target</th>\n",
              "    </tr>\n",
              "  </thead>\n",
              "  <tbody>\n",
              "    <tr>\n",
              "      <th>0</th>\n",
              "      <td>Brandon Ingram</td>\n",
              "      <td>36</td>\n",
              "      <td>27.4</td>\n",
              "      <td>7.4</td>\n",
              "      <td>2.6</td>\n",
              "      <td>7.6</td>\n",
              "      <td>34.7</td>\n",
              "      <td>0.5</td>\n",
              "      <td>2.1</td>\n",
              "      <td>25.0</td>\n",
              "      <td>...</td>\n",
              "      <td>2.3</td>\n",
              "      <td>69.9</td>\n",
              "      <td>0.7</td>\n",
              "      <td>3.4</td>\n",
              "      <td>4.1</td>\n",
              "      <td>1.9</td>\n",
              "      <td>0.4</td>\n",
              "      <td>0.4</td>\n",
              "      <td>1.3</td>\n",
              "      <td>0</td>\n",
              "    </tr>\n",
              "    <tr>\n",
              "      <th>1</th>\n",
              "      <td>Andrew Harrison</td>\n",
              "      <td>35</td>\n",
              "      <td>26.9</td>\n",
              "      <td>7.2</td>\n",
              "      <td>2.0</td>\n",
              "      <td>6.7</td>\n",
              "      <td>29.6</td>\n",
              "      <td>0.7</td>\n",
              "      <td>2.8</td>\n",
              "      <td>23.5</td>\n",
              "      <td>...</td>\n",
              "      <td>3.4</td>\n",
              "      <td>76.5</td>\n",
              "      <td>0.5</td>\n",
              "      <td>2.0</td>\n",
              "      <td>2.4</td>\n",
              "      <td>3.7</td>\n",
              "      <td>1.1</td>\n",
              "      <td>0.5</td>\n",
              "      <td>1.6</td>\n",
              "      <td>0</td>\n",
              "    </tr>\n",
              "    <tr>\n",
              "      <th>2</th>\n",
              "      <td>JaKarr Sampson</td>\n",
              "      <td>74</td>\n",
              "      <td>15.3</td>\n",
              "      <td>5.2</td>\n",
              "      <td>2.0</td>\n",
              "      <td>4.7</td>\n",
              "      <td>42.2</td>\n",
              "      <td>0.4</td>\n",
              "      <td>1.7</td>\n",
              "      <td>24.4</td>\n",
              "      <td>...</td>\n",
              "      <td>1.3</td>\n",
              "      <td>67.0</td>\n",
              "      <td>0.5</td>\n",
              "      <td>1.7</td>\n",
              "      <td>2.2</td>\n",
              "      <td>1.0</td>\n",
              "      <td>0.5</td>\n",
              "      <td>0.3</td>\n",
              "      <td>1.0</td>\n",
              "      <td>0</td>\n",
              "    </tr>\n",
              "    <tr>\n",
              "      <th>3</th>\n",
              "      <td>Malik Sealy</td>\n",
              "      <td>58</td>\n",
              "      <td>11.6</td>\n",
              "      <td>5.7</td>\n",
              "      <td>2.3</td>\n",
              "      <td>5.5</td>\n",
              "      <td>42.6</td>\n",
              "      <td>0.1</td>\n",
              "      <td>0.5</td>\n",
              "      <td>22.6</td>\n",
              "      <td>...</td>\n",
              "      <td>1.3</td>\n",
              "      <td>68.9</td>\n",
              "      <td>1.0</td>\n",
              "      <td>0.9</td>\n",
              "      <td>1.9</td>\n",
              "      <td>0.8</td>\n",
              "      <td>0.6</td>\n",
              "      <td>0.1</td>\n",
              "      <td>1.0</td>\n",
              "      <td>1</td>\n",
              "    </tr>\n",
              "    <tr>\n",
              "      <th>4</th>\n",
              "      <td>Matt Geiger</td>\n",
              "      <td>48</td>\n",
              "      <td>11.5</td>\n",
              "      <td>4.5</td>\n",
              "      <td>1.6</td>\n",
              "      <td>3.0</td>\n",
              "      <td>52.4</td>\n",
              "      <td>0.0</td>\n",
              "      <td>0.1</td>\n",
              "      <td>0.0</td>\n",
              "      <td>...</td>\n",
              "      <td>1.9</td>\n",
              "      <td>67.4</td>\n",
              "      <td>1.0</td>\n",
              "      <td>1.5</td>\n",
              "      <td>2.5</td>\n",
              "      <td>0.3</td>\n",
              "      <td>0.3</td>\n",
              "      <td>0.4</td>\n",
              "      <td>0.8</td>\n",
              "      <td>1</td>\n",
              "    </tr>\n",
              "  </tbody>\n",
              "</table>\n",
              "<p>5 rows × 21 columns</p>\n",
              "</div>\n",
              "    <div class=\"colab-df-buttons\">\n",
              "\n",
              "  <div class=\"colab-df-container\">\n",
              "    <button class=\"colab-df-convert\" onclick=\"convertToInteractive('df-bc17eade-e85e-4e4d-9b0e-3eedf834df09')\"\n",
              "            title=\"Convert this dataframe to an interactive table.\"\n",
              "            style=\"display:none;\">\n",
              "\n",
              "  <svg xmlns=\"http://www.w3.org/2000/svg\" height=\"24px\" viewBox=\"0 -960 960 960\">\n",
              "    <path d=\"M120-120v-720h720v720H120Zm60-500h600v-160H180v160Zm220 220h160v-160H400v160Zm0 220h160v-160H400v160ZM180-400h160v-160H180v160Zm440 0h160v-160H620v160ZM180-180h160v-160H180v160Zm440 0h160v-160H620v160Z\"/>\n",
              "  </svg>\n",
              "    </button>\n",
              "\n",
              "  <style>\n",
              "    .colab-df-container {\n",
              "      display:flex;\n",
              "      gap: 12px;\n",
              "    }\n",
              "\n",
              "    .colab-df-convert {\n",
              "      background-color: #E8F0FE;\n",
              "      border: none;\n",
              "      border-radius: 50%;\n",
              "      cursor: pointer;\n",
              "      display: none;\n",
              "      fill: #1967D2;\n",
              "      height: 32px;\n",
              "      padding: 0 0 0 0;\n",
              "      width: 32px;\n",
              "    }\n",
              "\n",
              "    .colab-df-convert:hover {\n",
              "      background-color: #E2EBFA;\n",
              "      box-shadow: 0px 1px 2px rgba(60, 64, 67, 0.3), 0px 1px 3px 1px rgba(60, 64, 67, 0.15);\n",
              "      fill: #174EA6;\n",
              "    }\n",
              "\n",
              "    .colab-df-buttons div {\n",
              "      margin-bottom: 4px;\n",
              "    }\n",
              "\n",
              "    [theme=dark] .colab-df-convert {\n",
              "      background-color: #3B4455;\n",
              "      fill: #D2E3FC;\n",
              "    }\n",
              "\n",
              "    [theme=dark] .colab-df-convert:hover {\n",
              "      background-color: #434B5C;\n",
              "      box-shadow: 0px 1px 3px 1px rgba(0, 0, 0, 0.15);\n",
              "      filter: drop-shadow(0px 1px 2px rgba(0, 0, 0, 0.3));\n",
              "      fill: #FFFFFF;\n",
              "    }\n",
              "  </style>\n",
              "\n",
              "    <script>\n",
              "      const buttonEl =\n",
              "        document.querySelector('#df-bc17eade-e85e-4e4d-9b0e-3eedf834df09 button.colab-df-convert');\n",
              "      buttonEl.style.display =\n",
              "        google.colab.kernel.accessAllowed ? 'block' : 'none';\n",
              "\n",
              "      async function convertToInteractive(key) {\n",
              "        const element = document.querySelector('#df-bc17eade-e85e-4e4d-9b0e-3eedf834df09');\n",
              "        const dataTable =\n",
              "          await google.colab.kernel.invokeFunction('convertToInteractive',\n",
              "                                                    [key], {});\n",
              "        if (!dataTable) return;\n",
              "\n",
              "        const docLinkHtml = 'Like what you see? Visit the ' +\n",
              "          '<a target=\"_blank\" href=https://colab.research.google.com/notebooks/data_table.ipynb>data table notebook</a>'\n",
              "          + ' to learn more about interactive tables.';\n",
              "        element.innerHTML = '';\n",
              "        dataTable['output_type'] = 'display_data';\n",
              "        await google.colab.output.renderOutput(dataTable, element);\n",
              "        const docLink = document.createElement('div');\n",
              "        docLink.innerHTML = docLinkHtml;\n",
              "        element.appendChild(docLink);\n",
              "      }\n",
              "    </script>\n",
              "  </div>\n",
              "\n",
              "\n",
              "<div id=\"df-5f877415-e7e1-417d-b9a1-706279599ea9\">\n",
              "  <button class=\"colab-df-quickchart\" onclick=\"quickchart('df-5f877415-e7e1-417d-b9a1-706279599ea9')\"\n",
              "            title=\"Suggest charts.\"\n",
              "            style=\"display:none;\">\n",
              "\n",
              "<svg xmlns=\"http://www.w3.org/2000/svg\" height=\"24px\"viewBox=\"0 0 24 24\"\n",
              "     width=\"24px\">\n",
              "    <g>\n",
              "        <path d=\"M19 3H5c-1.1 0-2 .9-2 2v14c0 1.1.9 2 2 2h14c1.1 0 2-.9 2-2V5c0-1.1-.9-2-2-2zM9 17H7v-7h2v7zm4 0h-2V7h2v10zm4 0h-2v-4h2v4z\"/>\n",
              "    </g>\n",
              "</svg>\n",
              "  </button>\n",
              "\n",
              "<style>\n",
              "  .colab-df-quickchart {\n",
              "      --bg-color: #E8F0FE;\n",
              "      --fill-color: #1967D2;\n",
              "      --hover-bg-color: #E2EBFA;\n",
              "      --hover-fill-color: #174EA6;\n",
              "      --disabled-fill-color: #AAA;\n",
              "      --disabled-bg-color: #DDD;\n",
              "  }\n",
              "\n",
              "  [theme=dark] .colab-df-quickchart {\n",
              "      --bg-color: #3B4455;\n",
              "      --fill-color: #D2E3FC;\n",
              "      --hover-bg-color: #434B5C;\n",
              "      --hover-fill-color: #FFFFFF;\n",
              "      --disabled-bg-color: #3B4455;\n",
              "      --disabled-fill-color: #666;\n",
              "  }\n",
              "\n",
              "  .colab-df-quickchart {\n",
              "    background-color: var(--bg-color);\n",
              "    border: none;\n",
              "    border-radius: 50%;\n",
              "    cursor: pointer;\n",
              "    display: none;\n",
              "    fill: var(--fill-color);\n",
              "    height: 32px;\n",
              "    padding: 0;\n",
              "    width: 32px;\n",
              "  }\n",
              "\n",
              "  .colab-df-quickchart:hover {\n",
              "    background-color: var(--hover-bg-color);\n",
              "    box-shadow: 0 1px 2px rgba(60, 64, 67, 0.3), 0 1px 3px 1px rgba(60, 64, 67, 0.15);\n",
              "    fill: var(--button-hover-fill-color);\n",
              "  }\n",
              "\n",
              "  .colab-df-quickchart-complete:disabled,\n",
              "  .colab-df-quickchart-complete:disabled:hover {\n",
              "    background-color: var(--disabled-bg-color);\n",
              "    fill: var(--disabled-fill-color);\n",
              "    box-shadow: none;\n",
              "  }\n",
              "\n",
              "  .colab-df-spinner {\n",
              "    border: 2px solid var(--fill-color);\n",
              "    border-color: transparent;\n",
              "    border-bottom-color: var(--fill-color);\n",
              "    animation:\n",
              "      spin 1s steps(1) infinite;\n",
              "  }\n",
              "\n",
              "  @keyframes spin {\n",
              "    0% {\n",
              "      border-color: transparent;\n",
              "      border-bottom-color: var(--fill-color);\n",
              "      border-left-color: var(--fill-color);\n",
              "    }\n",
              "    20% {\n",
              "      border-color: transparent;\n",
              "      border-left-color: var(--fill-color);\n",
              "      border-top-color: var(--fill-color);\n",
              "    }\n",
              "    30% {\n",
              "      border-color: transparent;\n",
              "      border-left-color: var(--fill-color);\n",
              "      border-top-color: var(--fill-color);\n",
              "      border-right-color: var(--fill-color);\n",
              "    }\n",
              "    40% {\n",
              "      border-color: transparent;\n",
              "      border-right-color: var(--fill-color);\n",
              "      border-top-color: var(--fill-color);\n",
              "    }\n",
              "    60% {\n",
              "      border-color: transparent;\n",
              "      border-right-color: var(--fill-color);\n",
              "    }\n",
              "    80% {\n",
              "      border-color: transparent;\n",
              "      border-right-color: var(--fill-color);\n",
              "      border-bottom-color: var(--fill-color);\n",
              "    }\n",
              "    90% {\n",
              "      border-color: transparent;\n",
              "      border-bottom-color: var(--fill-color);\n",
              "    }\n",
              "  }\n",
              "</style>\n",
              "\n",
              "  <script>\n",
              "    async function quickchart(key) {\n",
              "      const quickchartButtonEl =\n",
              "        document.querySelector('#' + key + ' button');\n",
              "      quickchartButtonEl.disabled = true;  // To prevent multiple clicks.\n",
              "      quickchartButtonEl.classList.add('colab-df-spinner');\n",
              "      try {\n",
              "        const charts = await google.colab.kernel.invokeFunction(\n",
              "            'suggestCharts', [key], {});\n",
              "      } catch (error) {\n",
              "        console.error('Error during call to suggestCharts:', error);\n",
              "      }\n",
              "      quickchartButtonEl.classList.remove('colab-df-spinner');\n",
              "      quickchartButtonEl.classList.add('colab-df-quickchart-complete');\n",
              "    }\n",
              "    (() => {\n",
              "      let quickchartButtonEl =\n",
              "        document.querySelector('#df-5f877415-e7e1-417d-b9a1-706279599ea9 button');\n",
              "      quickchartButtonEl.style.display =\n",
              "        google.colab.kernel.accessAllowed ? 'block' : 'none';\n",
              "    })();\n",
              "  </script>\n",
              "</div>\n",
              "    </div>\n",
              "  </div>\n"
            ]
          },
          "metadata": {},
          "execution_count": 8
        }
      ]
    },
    {
      "cell_type": "markdown",
      "source": [
        "POdemos recuperar los valores transformador, usando el método 'transform' del modelo.\n",
        "\n",
        "Para reemplazar debemos de utilizar la notación linea o la de texto con la diferencia que se le adiciona el 'data.Name' (nombre de nuestro dataset + nombre de la columna)"
      ],
      "metadata": {
        "id": "Uq8AvcGcQt9L"
      }
    },
    {
      "cell_type": "code",
      "source": [
        "data.Name = encoder.transform(data.Name)"
      ],
      "metadata": {
        "id": "VNv3iMP-SFpj"
      },
      "execution_count": 9,
      "outputs": []
    },
    {
      "cell_type": "code",
      "source": [
        "len(data.Name.unique())"
      ],
      "metadata": {
        "colab": {
          "base_uri": "https://localhost:8080/"
        },
        "id": "nk163GAeR0Ts",
        "outputId": "48b66749-4a27-4233-82a5-f419094bf99b"
      },
      "execution_count": 10,
      "outputs": [
        {
          "output_type": "execute_result",
          "data": {
            "text/plain": [
              "1294"
            ]
          },
          "metadata": {},
          "execution_count": 10
        }
      ]
    },
    {
      "cell_type": "code",
      "source": [
        "#Esto nos ayuda a acceder los valores de la columna mapeada\n",
        "encoder.classes_"
      ],
      "metadata": {
        "id": "UPCOd98mR4Q8"
      },
      "execution_count": null,
      "outputs": []
    },
    {
      "cell_type": "code",
      "source": [
        "#se puede entrenar y transformar al mismo tiempo\n",
        "example = encoder.fit_transform(data.Name)"
      ],
      "metadata": {
        "id": "JG-91-ZBSV7b"
      },
      "execution_count": 12,
      "outputs": []
    },
    {
      "cell_type": "code",
      "source": [
        "example"
      ],
      "metadata": {
        "colab": {
          "base_uri": "https://localhost:8080/"
        },
        "id": "fCzgt54QTHvV",
        "outputId": "9a9496c3-3381-43d9-d3b2-6966da591ebe"
      },
      "execution_count": 13,
      "outputs": [
        {
          "output_type": "execute_result",
          "data": {
            "text/plain": [
              "array([128,  45, 521, ..., 855, 795, 644])"
            ]
          },
          "metadata": {},
          "execution_count": 13
        }
      ]
    },
    {
      "cell_type": "code",
      "source": [
        "inverse = encoder.inverse_transform(example)"
      ],
      "metadata": {
        "id": "vJzr2lb1TJgV"
      },
      "execution_count": 14,
      "outputs": []
    },
    {
      "cell_type": "code",
      "source": [
        "inverse"
      ],
      "metadata": {
        "colab": {
          "base_uri": "https://localhost:8080/"
        },
        "id": "_AUEaIeVTMtz",
        "outputId": "76e7dd72-88f3-4bc9-a1c9-10dce4a03bb4"
      },
      "execution_count": 15,
      "outputs": [
        {
          "output_type": "execute_result",
          "data": {
            "text/plain": [
              "array(['Brandon Ingram', 'Andrew Harrison', 'JaKarr Sampson', ...,\n",
              "       'Marlon Maxey', 'Litterial Green', 'Jon Barry'], dtype=object)"
            ]
          },
          "metadata": {},
          "execution_count": 15
        }
      ]
    },
    {
      "cell_type": "markdown",
      "source": [
        "Este es un proceso adecuado para realizar la limpieza de datos"
      ],
      "metadata": {
        "id": "pSLe_zGNT4su"
      }
    },
    {
      "cell_type": "markdown",
      "source": [
        "##Proceso de Estandarización - StandardScaler"
      ],
      "metadata": {
        "id": "lGhbF5GBT2AX"
      }
    },
    {
      "cell_type": "markdown",
      "source": [
        "Este algoritmo sigue la fórmula de la distribución estándar\n",
        "\n",
        "\n",
        "*   \"m\" es mu\n",
        "*   \"sd\" desviación estándar\n",
        "\n",
        "\n",
        "\n",
        "Z - (x - m) / sd"
      ],
      "metadata": {
        "id": "bufp-2OpUC7H"
      }
    },
    {
      "cell_type": "markdown",
      "source": [
        "![image.png](data:image/png;base64,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)"
      ],
      "metadata": {
        "id": "7tW38GrmVlpG"
      }
    },
    {
      "cell_type": "markdown",
      "source": [
        "\"estimadores\" es sinónimo de predictivo\n",
        "\n"
      ],
      "metadata": {
        "id": "SiTQppTgVqux"
      }
    },
    {
      "cell_type": "code",
      "source": [
        "#inicializo el modelo\n",
        "standard = preprocessing.StandardScaler()"
      ],
      "metadata": {
        "id": "DyAx90ZtV2OA"
      },
      "execution_count": 16,
      "outputs": []
    },
    {
      "cell_type": "code",
      "source": [
        "#entreno el modelo\n",
        "standard.fit(data.GamesPlayed.to_numpy().reshape(-1, 1))"
      ],
      "metadata": {
        "colab": {
          "base_uri": "https://localhost:8080/",
          "height": 75
        },
        "id": "teU5ZrR3WhzQ",
        "outputId": "e525843e-8e22-435a-9c03-44c7470ae8b6"
      },
      "execution_count": 18,
      "outputs": [
        {
          "output_type": "execute_result",
          "data": {
            "text/plain": [
              "StandardScaler()"
            ],
            "text/html": [
              "<style>#sk-container-id-3 {color: black;background-color: white;}#sk-container-id-3 pre{padding: 0;}#sk-container-id-3 div.sk-toggleable {background-color: white;}#sk-container-id-3 label.sk-toggleable__label {cursor: pointer;display: block;width: 100%;margin-bottom: 0;padding: 0.3em;box-sizing: border-box;text-align: center;}#sk-container-id-3 label.sk-toggleable__label-arrow:before {content: \"▸\";float: left;margin-right: 0.25em;color: #696969;}#sk-container-id-3 label.sk-toggleable__label-arrow:hover:before {color: black;}#sk-container-id-3 div.sk-estimator:hover label.sk-toggleable__label-arrow:before {color: black;}#sk-container-id-3 div.sk-toggleable__content {max-height: 0;max-width: 0;overflow: hidden;text-align: left;background-color: #f0f8ff;}#sk-container-id-3 div.sk-toggleable__content pre {margin: 0.2em;color: black;border-radius: 0.25em;background-color: #f0f8ff;}#sk-container-id-3 input.sk-toggleable__control:checked~div.sk-toggleable__content {max-height: 200px;max-width: 100%;overflow: auto;}#sk-container-id-3 input.sk-toggleable__control:checked~label.sk-toggleable__label-arrow:before {content: \"▾\";}#sk-container-id-3 div.sk-estimator input.sk-toggleable__control:checked~label.sk-toggleable__label {background-color: #d4ebff;}#sk-container-id-3 div.sk-label input.sk-toggleable__control:checked~label.sk-toggleable__label {background-color: #d4ebff;}#sk-container-id-3 input.sk-hidden--visually {border: 0;clip: rect(1px 1px 1px 1px);clip: rect(1px, 1px, 1px, 1px);height: 1px;margin: -1px;overflow: hidden;padding: 0;position: absolute;width: 1px;}#sk-container-id-3 div.sk-estimator {font-family: monospace;background-color: #f0f8ff;border: 1px dotted black;border-radius: 0.25em;box-sizing: border-box;margin-bottom: 0.5em;}#sk-container-id-3 div.sk-estimator:hover {background-color: #d4ebff;}#sk-container-id-3 div.sk-parallel-item::after {content: \"\";width: 100%;border-bottom: 1px solid gray;flex-grow: 1;}#sk-container-id-3 div.sk-label:hover label.sk-toggleable__label {background-color: #d4ebff;}#sk-container-id-3 div.sk-serial::before {content: \"\";position: absolute;border-left: 1px solid gray;box-sizing: border-box;top: 0;bottom: 0;left: 50%;z-index: 0;}#sk-container-id-3 div.sk-serial {display: flex;flex-direction: column;align-items: center;background-color: white;padding-right: 0.2em;padding-left: 0.2em;position: relative;}#sk-container-id-3 div.sk-item {position: relative;z-index: 1;}#sk-container-id-3 div.sk-parallel {display: flex;align-items: stretch;justify-content: center;background-color: white;position: relative;}#sk-container-id-3 div.sk-item::before, #sk-container-id-3 div.sk-parallel-item::before {content: \"\";position: absolute;border-left: 1px solid gray;box-sizing: border-box;top: 0;bottom: 0;left: 50%;z-index: -1;}#sk-container-id-3 div.sk-parallel-item {display: flex;flex-direction: column;z-index: 1;position: relative;background-color: white;}#sk-container-id-3 div.sk-parallel-item:first-child::after {align-self: flex-end;width: 50%;}#sk-container-id-3 div.sk-parallel-item:last-child::after {align-self: flex-start;width: 50%;}#sk-container-id-3 div.sk-parallel-item:only-child::after {width: 0;}#sk-container-id-3 div.sk-dashed-wrapped {border: 1px dashed gray;margin: 0 0.4em 0.5em 0.4em;box-sizing: border-box;padding-bottom: 0.4em;background-color: white;}#sk-container-id-3 div.sk-label label {font-family: monospace;font-weight: bold;display: inline-block;line-height: 1.2em;}#sk-container-id-3 div.sk-label-container {text-align: center;}#sk-container-id-3 div.sk-container {/* jupyter's `normalize.less` sets `[hidden] { display: none; }` but bootstrap.min.css set `[hidden] { display: none !important; }` so we also need the `!important` here to be able to override the default hidden behavior on the sphinx rendered scikit-learn.org. See: https://github.com/scikit-learn/scikit-learn/issues/21755 */display: inline-block !important;position: relative;}#sk-container-id-3 div.sk-text-repr-fallback {display: none;}</style><div id=\"sk-container-id-3\" class=\"sk-top-container\"><div class=\"sk-text-repr-fallback\"><pre>StandardScaler()</pre><b>In a Jupyter environment, please rerun this cell to show the HTML representation or trust the notebook. <br />On GitHub, the HTML representation is unable to render, please try loading this page with nbviewer.org.</b></div><div class=\"sk-container\" hidden><div class=\"sk-item\"><div class=\"sk-estimator sk-toggleable\"><input class=\"sk-toggleable__control sk-hidden--visually\" id=\"sk-estimator-id-3\" type=\"checkbox\" checked><label for=\"sk-estimator-id-3\" class=\"sk-toggleable__label sk-toggleable__label-arrow\">StandardScaler</label><div class=\"sk-toggleable__content\"><pre>StandardScaler()</pre></div></div></div></div></div>"
            ]
          },
          "metadata": {},
          "execution_count": 18
        }
      ]
    },
    {
      "cell_type": "code",
      "source": [
        "#analizamos el resultado del entrenamiento\n",
        "standard.mean_"
      ],
      "metadata": {
        "colab": {
          "base_uri": "https://localhost:8080/"
        },
        "id": "L5heBE_eW7NC",
        "outputId": "0b42c22c-430e-41ee-c7a3-0a29de86d8f0"
      },
      "execution_count": 19,
      "outputs": [
        {
          "output_type": "execute_result",
          "data": {
            "text/plain": [
              "array([60.4141791])"
            ]
          },
          "metadata": {},
          "execution_count": 19
        }
      ]
    },
    {
      "cell_type": "code",
      "source": [
        "standard.scale_"
      ],
      "metadata": {
        "colab": {
          "base_uri": "https://localhost:8080/"
        },
        "id": "akkZZelhXGSF",
        "outputId": "2eb9131a-093e-4bfa-a45c-c85d0e62318a"
      },
      "execution_count": 20,
      "outputs": [
        {
          "output_type": "execute_result",
          "data": {
            "text/plain": [
              "array([17.42748581])"
            ]
          },
          "metadata": {},
          "execution_count": 20
        }
      ]
    },
    {
      "cell_type": "code",
      "source": [
        "standarized = standard.transform(data.GamesPlayed.to_numpy().reshape(-1, 1))"
      ],
      "metadata": {
        "id": "O2Ew6emyXK_z"
      },
      "execution_count": 21,
      "outputs": []
    },
    {
      "cell_type": "code",
      "source": [
        "standarized"
      ],
      "metadata": {
        "colab": {
          "base_uri": "https://localhost:8080/"
        },
        "id": "1QLbvckmXYx_",
        "outputId": "f96a9c49-a436-45fd-ccbc-301ddf103276"
      },
      "execution_count": 22,
      "outputs": [
        {
          "output_type": "execute_result",
          "data": {
            "text/plain": [
              "array([[-1.40090082],\n",
              "       [-1.45828144],\n",
              "       [ 0.77956287],\n",
              "       ...,\n",
              "       [-0.99923645],\n",
              "       [-0.48281084],\n",
              "       [-0.76971396]])"
            ]
          },
          "metadata": {},
          "execution_count": 22
        }
      ]
    },
    {
      "cell_type": "markdown",
      "source": [
        "este podemos utilizar para la columna objetivo o la columna de estudio, x e y.\n",
        "\n",
        "este modelo no trabaja sobre todo el dataframe, trabaja con las columnas\n",
        "\n"
      ],
      "metadata": {
        "id": "D83DQ6a9Xjj1"
      }
    },
    {
      "cell_type": "markdown",
      "source": [
        "para humanizar los valores previamente debe de pasar por la fórmula, es decir, la campana de Gauss.\n",
        "\n",
        "Esto"
      ],
      "metadata": {
        "id": "LJNE0j9gYtZj"
      }
    },
    {
      "cell_type": "code",
      "source": [
        "#PASO 1, OBLIGATORIO\n",
        "#Primero transforma el valor\n",
        "standard.transform([[27]])"
      ],
      "metadata": {
        "colab": {
          "base_uri": "https://localhost:8080/"
        },
        "id": "HhJqAx7NZVFC",
        "outputId": "39ea07f0-0bb6-4521-b45b-25e4fd59140b"
      },
      "execution_count": 23,
      "outputs": [
        {
          "output_type": "execute_result",
          "data": {
            "text/plain": [
              "array([[-1.91732643]])"
            ]
          },
          "metadata": {},
          "execution_count": 23
        }
      ]
    },
    {
      "cell_type": "code",
      "source": [
        "#la transformacion inversa se aplica SI Y SOLO SI deseamos mostrar la columna objetivo\n",
        "#se aplica solo a \"y\"\n",
        "standard.inverse_transform([-1.91732643])"
      ],
      "metadata": {
        "colab": {
          "base_uri": "https://localhost:8080/",
          "height": 407
        },
        "id": "4BmnIyqMaAHC",
        "outputId": "ccbd0df0-9843-4340-e8c8-ebcb6c51d124"
      },
      "execution_count": 24,
      "outputs": [
        {
          "output_type": "error",
          "ename": "ValueError",
          "evalue": "ignored",
          "traceback": [
            "\u001b[0;31m---------------------------------------------------------------------------\u001b[0m",
            "\u001b[0;31mValueError\u001b[0m                                Traceback (most recent call last)",
            "\u001b[0;32m<ipython-input-24-c2d61d11cddd>\u001b[0m in \u001b[0;36m<cell line: 3>\u001b[0;34m()\u001b[0m\n\u001b[1;32m      1\u001b[0m \u001b[0;31m#la transformacion inversa se aplica SI Y SOLO SI deseamos mostrar la columna objetivo\u001b[0m\u001b[0;34m\u001b[0m\u001b[0;34m\u001b[0m\u001b[0m\n\u001b[1;32m      2\u001b[0m \u001b[0;31m#se aplica solo a \"y\"\u001b[0m\u001b[0;34m\u001b[0m\u001b[0;34m\u001b[0m\u001b[0m\n\u001b[0;32m----> 3\u001b[0;31m \u001b[0mstandard\u001b[0m\u001b[0;34m.\u001b[0m\u001b[0minverse_transform\u001b[0m\u001b[0;34m(\u001b[0m\u001b[0;34m[\u001b[0m\u001b[0;34m-\u001b[0m\u001b[0;36m1.91732643\u001b[0m\u001b[0;34m]\u001b[0m\u001b[0;34m)\u001b[0m\u001b[0;34m\u001b[0m\u001b[0;34m\u001b[0m\u001b[0m\n\u001b[0m",
            "\u001b[0;32m/usr/local/lib/python3.10/dist-packages/sklearn/preprocessing/_data.py\u001b[0m in \u001b[0;36minverse_transform\u001b[0;34m(self, X, copy)\u001b[0m\n\u001b[1;32m   1032\u001b[0m \u001b[0;34m\u001b[0m\u001b[0m\n\u001b[1;32m   1033\u001b[0m         \u001b[0mcopy\u001b[0m \u001b[0;34m=\u001b[0m \u001b[0mcopy\u001b[0m \u001b[0;32mif\u001b[0m \u001b[0mcopy\u001b[0m \u001b[0;32mis\u001b[0m \u001b[0;32mnot\u001b[0m \u001b[0;32mNone\u001b[0m \u001b[0;32melse\u001b[0m \u001b[0mself\u001b[0m\u001b[0;34m.\u001b[0m\u001b[0mcopy\u001b[0m\u001b[0;34m\u001b[0m\u001b[0;34m\u001b[0m\u001b[0m\n\u001b[0;32m-> 1034\u001b[0;31m         X = check_array(\n\u001b[0m\u001b[1;32m   1035\u001b[0m             \u001b[0mX\u001b[0m\u001b[0;34m,\u001b[0m\u001b[0;34m\u001b[0m\u001b[0;34m\u001b[0m\u001b[0m\n\u001b[1;32m   1036\u001b[0m             \u001b[0maccept_sparse\u001b[0m\u001b[0;34m=\u001b[0m\u001b[0;34m\"csr\"\u001b[0m\u001b[0;34m,\u001b[0m\u001b[0;34m\u001b[0m\u001b[0;34m\u001b[0m\u001b[0m\n",
            "\u001b[0;32m/usr/local/lib/python3.10/dist-packages/sklearn/utils/validation.py\u001b[0m in \u001b[0;36mcheck_array\u001b[0;34m(array, accept_sparse, accept_large_sparse, dtype, order, copy, force_all_finite, ensure_2d, allow_nd, ensure_min_samples, ensure_min_features, estimator, input_name)\u001b[0m\n\u001b[1;32m    900\u001b[0m             \u001b[0;31m# If input is 1D raise error\u001b[0m\u001b[0;34m\u001b[0m\u001b[0;34m\u001b[0m\u001b[0m\n\u001b[1;32m    901\u001b[0m             \u001b[0;32mif\u001b[0m \u001b[0marray\u001b[0m\u001b[0;34m.\u001b[0m\u001b[0mndim\u001b[0m \u001b[0;34m==\u001b[0m \u001b[0;36m1\u001b[0m\u001b[0;34m:\u001b[0m\u001b[0;34m\u001b[0m\u001b[0;34m\u001b[0m\u001b[0m\n\u001b[0;32m--> 902\u001b[0;31m                 raise ValueError(\n\u001b[0m\u001b[1;32m    903\u001b[0m                     \u001b[0;34m\"Expected 2D array, got 1D array instead:\\narray={}.\\n\"\u001b[0m\u001b[0;34m\u001b[0m\u001b[0;34m\u001b[0m\u001b[0m\n\u001b[1;32m    904\u001b[0m                     \u001b[0;34m\"Reshape your data either using array.reshape(-1, 1) if \"\u001b[0m\u001b[0;34m\u001b[0m\u001b[0;34m\u001b[0m\u001b[0m\n",
            "\u001b[0;31mValueError\u001b[0m: Expected 2D array, got 1D array instead:\narray=[-1.91732643].\nReshape your data either using array.reshape(-1, 1) if your data has a single feature or array.reshape(1, -1) if it contains a single sample."
          ]
        }
      ]
    },
    {
      "cell_type": "markdown",
      "source": [
        "Este modelo tiene la posibilidad de entrenarse con múltiples columnas"
      ],
      "metadata": {
        "id": "8hjhVGa4bx6F"
      }
    },
    {
      "cell_type": "code",
      "source": [
        "multiple = preprocessing.StandardScaler()"
      ],
      "metadata": {
        "id": "1HTs5AXYb67J"
      },
      "execution_count": 25,
      "outputs": []
    },
    {
      "cell_type": "code",
      "source": [
        "test1 = multiple.fit_transform([data.GamesPlayed, data.MinutesPlayed])"
      ],
      "metadata": {
        "id": "WFaA6-oQb_bF"
      },
      "execution_count": 26,
      "outputs": []
    },
    {
      "cell_type": "code",
      "source": [
        "test1[1]"
      ],
      "metadata": {
        "colab": {
          "base_uri": "https://localhost:8080/"
        },
        "id": "KWLbQaQncQ07",
        "outputId": "7af348c5-3671-4d48-a9e4-1065987ffacb"
      },
      "execution_count": 27,
      "outputs": [
        {
          "output_type": "execute_result",
          "data": {
            "text/plain": [
              "array([-1., -1., -1., ..., -1., -1., -1.])"
            ]
          },
          "metadata": {},
          "execution_count": 27
        }
      ]
    },
    {
      "cell_type": "code",
      "source": [
        "test1[0]"
      ],
      "metadata": {
        "colab": {
          "base_uri": "https://localhost:8080/"
        },
        "id": "qjQZu1vCcTBJ",
        "outputId": "df661783-0302-41c0-d780-dff3d0775072"
      },
      "execution_count": 28,
      "outputs": [
        {
          "output_type": "execute_result",
          "data": {
            "text/plain": [
              "array([1., 1., 1., ..., 1., 1., 1.])"
            ]
          },
          "metadata": {},
          "execution_count": 28
        }
      ]
    },
    {
      "cell_type": "markdown",
      "source": [
        "##Proceso de Estandarización - MinMaxScaler"
      ],
      "metadata": {
        "id": "u2pMJIuGc2Y0"
      }
    },
    {
      "cell_type": "markdown",
      "source": [
        "Se basa en encontrar el valor de X estándar bajo la siguiente fórmula"
      ],
      "metadata": {
        "id": "f-BJAHHVdDJn"
      }
    },
    {
      "cell_type": "markdown",
      "source": [
        "x_std = ((x + x_min(axis==)) / (x_max(axis=0) - x_min(axis=0)))\n",
        "\n",
        "x_scale = (x_std* (max - min)) + min"
      ],
      "metadata": {
        "id": "VOkfKb14dIWG"
      }
    },
    {
      "cell_type": "markdown",
      "source": [
        "se debe de crear un modelo por cada columna\n",
        "\n",
        "Obligatorio para evitar confunciones"
      ],
      "metadata": {
        "id": "nvGkjbLHcfwA"
      }
    },
    {
      "cell_type": "code",
      "source": [
        "min_max = preprocessing.MinMaxScaler()"
      ],
      "metadata": {
        "id": "y5DsCKpKc1QM"
      },
      "execution_count": 29,
      "outputs": []
    },
    {
      "cell_type": "code",
      "source": [
        "min_max.fit(data.GamesPlayed.to_numpy().reshape(-1, 1))"
      ],
      "metadata": {
        "colab": {
          "base_uri": "https://localhost:8080/",
          "height": 75
        },
        "id": "aS8V-PzWfC8L",
        "outputId": "98158519-0664-4d55-96c6-c7be3d9eac9c"
      },
      "execution_count": 30,
      "outputs": [
        {
          "output_type": "execute_result",
          "data": {
            "text/plain": [
              "MinMaxScaler()"
            ],
            "text/html": [
              "<style>#sk-container-id-4 {color: black;background-color: white;}#sk-container-id-4 pre{padding: 0;}#sk-container-id-4 div.sk-toggleable {background-color: white;}#sk-container-id-4 label.sk-toggleable__label {cursor: pointer;display: block;width: 100%;margin-bottom: 0;padding: 0.3em;box-sizing: border-box;text-align: center;}#sk-container-id-4 label.sk-toggleable__label-arrow:before {content: \"▸\";float: left;margin-right: 0.25em;color: #696969;}#sk-container-id-4 label.sk-toggleable__label-arrow:hover:before {color: black;}#sk-container-id-4 div.sk-estimator:hover label.sk-toggleable__label-arrow:before {color: black;}#sk-container-id-4 div.sk-toggleable__content {max-height: 0;max-width: 0;overflow: hidden;text-align: left;background-color: #f0f8ff;}#sk-container-id-4 div.sk-toggleable__content pre {margin: 0.2em;color: black;border-radius: 0.25em;background-color: #f0f8ff;}#sk-container-id-4 input.sk-toggleable__control:checked~div.sk-toggleable__content {max-height: 200px;max-width: 100%;overflow: auto;}#sk-container-id-4 input.sk-toggleable__control:checked~label.sk-toggleable__label-arrow:before {content: \"▾\";}#sk-container-id-4 div.sk-estimator input.sk-toggleable__control:checked~label.sk-toggleable__label {background-color: #d4ebff;}#sk-container-id-4 div.sk-label input.sk-toggleable__control:checked~label.sk-toggleable__label {background-color: #d4ebff;}#sk-container-id-4 input.sk-hidden--visually {border: 0;clip: rect(1px 1px 1px 1px);clip: rect(1px, 1px, 1px, 1px);height: 1px;margin: -1px;overflow: hidden;padding: 0;position: absolute;width: 1px;}#sk-container-id-4 div.sk-estimator {font-family: monospace;background-color: #f0f8ff;border: 1px dotted black;border-radius: 0.25em;box-sizing: border-box;margin-bottom: 0.5em;}#sk-container-id-4 div.sk-estimator:hover {background-color: #d4ebff;}#sk-container-id-4 div.sk-parallel-item::after {content: \"\";width: 100%;border-bottom: 1px solid gray;flex-grow: 1;}#sk-container-id-4 div.sk-label:hover label.sk-toggleable__label {background-color: #d4ebff;}#sk-container-id-4 div.sk-serial::before {content: \"\";position: absolute;border-left: 1px solid gray;box-sizing: border-box;top: 0;bottom: 0;left: 50%;z-index: 0;}#sk-container-id-4 div.sk-serial {display: flex;flex-direction: column;align-items: center;background-color: white;padding-right: 0.2em;padding-left: 0.2em;position: relative;}#sk-container-id-4 div.sk-item {position: relative;z-index: 1;}#sk-container-id-4 div.sk-parallel {display: flex;align-items: stretch;justify-content: center;background-color: white;position: relative;}#sk-container-id-4 div.sk-item::before, #sk-container-id-4 div.sk-parallel-item::before {content: \"\";position: absolute;border-left: 1px solid gray;box-sizing: border-box;top: 0;bottom: 0;left: 50%;z-index: -1;}#sk-container-id-4 div.sk-parallel-item {display: flex;flex-direction: column;z-index: 1;position: relative;background-color: white;}#sk-container-id-4 div.sk-parallel-item:first-child::after {align-self: flex-end;width: 50%;}#sk-container-id-4 div.sk-parallel-item:last-child::after {align-self: flex-start;width: 50%;}#sk-container-id-4 div.sk-parallel-item:only-child::after {width: 0;}#sk-container-id-4 div.sk-dashed-wrapped {border: 1px dashed gray;margin: 0 0.4em 0.5em 0.4em;box-sizing: border-box;padding-bottom: 0.4em;background-color: white;}#sk-container-id-4 div.sk-label label {font-family: monospace;font-weight: bold;display: inline-block;line-height: 1.2em;}#sk-container-id-4 div.sk-label-container {text-align: center;}#sk-container-id-4 div.sk-container {/* jupyter's `normalize.less` sets `[hidden] { display: none; }` but bootstrap.min.css set `[hidden] { display: none !important; }` so we also need the `!important` here to be able to override the default hidden behavior on the sphinx rendered scikit-learn.org. See: https://github.com/scikit-learn/scikit-learn/issues/21755 */display: inline-block !important;position: relative;}#sk-container-id-4 div.sk-text-repr-fallback {display: none;}</style><div id=\"sk-container-id-4\" class=\"sk-top-container\"><div class=\"sk-text-repr-fallback\"><pre>MinMaxScaler()</pre><b>In a Jupyter environment, please rerun this cell to show the HTML representation or trust the notebook. <br />On GitHub, the HTML representation is unable to render, please try loading this page with nbviewer.org.</b></div><div class=\"sk-container\" hidden><div class=\"sk-item\"><div class=\"sk-estimator sk-toggleable\"><input class=\"sk-toggleable__control sk-hidden--visually\" id=\"sk-estimator-id-4\" type=\"checkbox\" checked><label for=\"sk-estimator-id-4\" class=\"sk-toggleable__label sk-toggleable__label-arrow\">MinMaxScaler</label><div class=\"sk-toggleable__content\"><pre>MinMaxScaler()</pre></div></div></div></div></div>"
            ]
          },
          "metadata": {},
          "execution_count": 30
        }
      ]
    },
    {
      "cell_type": "code",
      "source": [
        "min_max.min_"
      ],
      "metadata": {
        "colab": {
          "base_uri": "https://localhost:8080/"
        },
        "id": "L2IA-fvNfDGc",
        "outputId": "48f19d52-20ca-4f56-eab7-e38464df66bf"
      },
      "execution_count": 31,
      "outputs": [
        {
          "output_type": "execute_result",
          "data": {
            "text/plain": [
              "array([-0.15492958])"
            ]
          },
          "metadata": {},
          "execution_count": 31
        }
      ]
    },
    {
      "cell_type": "code",
      "source": [
        "min_max.data_min_"
      ],
      "metadata": {
        "colab": {
          "base_uri": "https://localhost:8080/"
        },
        "id": "c95bbG6gfa7t",
        "outputId": "35c3036a-4d17-4b17-fd8b-b2da2abce659"
      },
      "execution_count": 35,
      "outputs": [
        {
          "output_type": "execute_result",
          "data": {
            "text/plain": [
              "array([11.])"
            ]
          },
          "metadata": {},
          "execution_count": 35
        }
      ]
    },
    {
      "cell_type": "code",
      "source": [
        "min_max.data_max_"
      ],
      "metadata": {
        "colab": {
          "base_uri": "https://localhost:8080/"
        },
        "id": "wkrBr8RQfOuI",
        "outputId": "f5f98f08-ef89-49b9-d51e-f5c22106d96f"
      },
      "execution_count": 34,
      "outputs": [
        {
          "output_type": "execute_result",
          "data": {
            "text/plain": [
              "array([82.])"
            ]
          },
          "metadata": {},
          "execution_count": 34
        }
      ]
    },
    {
      "cell_type": "code",
      "source": [
        "minimized = min_max.transform(data.GamesPlayed.to_numpy().reshape(-1, 1))"
      ],
      "metadata": {
        "id": "QjiQIm9Zfeus"
      },
      "execution_count": null,
      "outputs": []
    },
    {
      "cell_type": "markdown",
      "source": [
        "esto lo que hace es transformar valore sque estan dispersos en un rango amplio de distribución\n",
        "\n"
      ],
      "metadata": {
        "id": "JCR8zft7fm8j"
      }
    },
    {
      "cell_type": "markdown",
      "source": [
        "para determinar cuando utilizar estos pre procesamiento debemos de estudiar y analizar la tabal que e nos muestra en el \"describe()\".\n",
        "\n",
        "Esto nos va a ayudar a determinar qué tan simétrica se encuentra este dataset.\n",
        "La distribución entre los perecentiles, deciles debe ser igual\n",
        "\n",
        "si tengo valores muy alejados o muy"
      ],
      "metadata": {
        "id": "hbNBtnCmglIP"
      }
    },
    {
      "cell_type": "markdown",
      "source": [
        "modelos que veremos la siguiente clase:\n",
        "\n",
        "*  estandarizacion\n",
        "*   normalizacion\n",
        "*   discretizacion\n"
      ],
      "metadata": {
        "id": "8JuP8-Rxhz8f"
      }
    }
  ]
}